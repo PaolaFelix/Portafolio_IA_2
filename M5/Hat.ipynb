{
  "cells": [
    {
      "cell_type": "code",
      "execution_count": null,
      "metadata": {
        "id": "2kkIF8VUq2fk"
      },
      "outputs": [],
      "source": [
        "import numpy as np\n",
        "import pandas as pd\n",
        "from sklearn.preprocessing import MinMaxScaler"
      ]
    },
    {
      "cell_type": "markdown",
      "metadata": {
        "id": "T1hsExPG6dDl"
      },
      "source": [
        "#Problema 1"
      ]
    },
    {
      "cell_type": "code",
      "execution_count": null,
      "metadata": {
        "id": "HRWIIvbr6fpC"
      },
      "outputs": [],
      "source": [
        "X1 = np.array([2, 3, 5, 7, 9])\n",
        "y = np.array([5, 8, 7, 10, 12])"
      ]
    },
    {
      "cell_type": "code",
      "execution_count": null,
      "metadata": {
        "id": "dS2qSq6Q6x3u"
      },
      "outputs": [],
      "source": [
        "X = np.column_stack((np.ones(len(X1)), X1))"
      ]
    },
    {
      "cell_type": "markdown",
      "metadata": {
        "id": "2Yfo590E8uAx"
      },
      "source": []
    },
    {
      "cell_type": "code",
      "execution_count": null,
      "metadata": {
        "colab": {
          "base_uri": "https://localhost:8080/"
        },
        "id": "oWMH9upN61xS",
        "outputId": "755f7b8c-f3e3-483c-f7a9-a72abaa9ea18"
      },
      "outputs": [
        {
          "name": "stdout",
          "output_type": "stream",
          "text": [
            "[[1. 2.]\n",
            " [1. 3.]\n",
            " [1. 5.]\n",
            " [1. 7.]\n",
            " [1. 9.]]\n"
          ]
        }
      ],
      "source": [
        "print(X)"
      ]
    },
    {
      "cell_type": "code",
      "execution_count": null,
      "metadata": {
        "colab": {
          "base_uri": "https://localhost:8080/"
        },
        "id": "uV0lOohG68ND",
        "outputId": "c2d3cbc0-f947-4730-d3c0-b525e67648e0"
      },
      "outputs": [
        {
          "name": "stdout",
          "output_type": "stream",
          "text": [
            "[[ 0.51219512  0.41463415  0.2195122   0.02439024 -0.17073171]\n",
            " [ 0.41463415  0.34756098  0.21341463  0.07926829 -0.05487805]\n",
            " [ 0.2195122   0.21341463  0.20121951  0.18902439  0.17682927]\n",
            " [ 0.02439024  0.07926829  0.18902439  0.29878049  0.40853659]\n",
            " [-0.17073171 -0.05487805  0.17682927  0.40853659  0.6402439 ]]\n"
          ]
        }
      ],
      "source": [
        "H = X @ np.linalg.inv(X.T @ X) @ X.T\n",
        "print(H)"
      ]
    },
    {
      "cell_type": "code",
      "execution_count": null,
      "metadata": {
        "colab": {
          "base_uri": "https://localhost:8080/"
        },
        "id": "t0RJy9wB7D8J",
        "outputId": "80505a74-6b0e-4117-a0db-dee8c3cd373a"
      },
      "outputs": [
        {
          "name": "stdout",
          "output_type": "stream",
          "text": [
            "[3.86585366 0.87195122]\n"
          ]
        }
      ],
      "source": [
        "B = np.linalg.inv(X.T @ X) @ X.T @ y\n",
        "print(B)"
      ]
    },
    {
      "cell_type": "code",
      "execution_count": null,
      "metadata": {
        "colab": {
          "base_uri": "https://localhost:8080/"
        },
        "id": "4GEvMq557J5A",
        "outputId": "0227c4ad-5a62-44d1-c59f-315639b98598"
      },
      "outputs": [
        {
          "name": "stdout",
          "output_type": "stream",
          "text": [
            "[ 5.6097561   6.48170732  8.22560976  9.9695122  11.71341463]\n"
          ]
        }
      ],
      "source": [
        "Y_hat = H @ y\n",
        "print(Y_hat)"
      ]
    },
    {
      "cell_type": "code",
      "execution_count": null,
      "metadata": {
        "colab": {
          "base_uri": "https://localhost:8080/"
        },
        "id": "z40jGYuIByOP",
        "outputId": "841dcc17-8b0f-4163-a6d7-fddf2cc59a73"
      },
      "outputs": [
        {
          "name": "stdout",
          "output_type": "stream",
          "text": [
            "[-0.6097561   1.51829268 -1.22560976  0.0304878   0.28658537]\n"
          ]
        }
      ],
      "source": [
        "error = y - Y_hat\n",
        "print(error)"
      ]
    },
    {
      "cell_type": "markdown",
      "metadata": {
        "id": "TOaYM49h6aso"
      },
      "source": [
        "#Problema 2"
      ]
    },
    {
      "cell_type": "code",
      "execution_count": null,
      "metadata": {
        "id": "3jGqBrblq4Ex"
      },
      "outputs": [],
      "source": [
        "data = pd.read_csv('sample_data/2HAT.csv')"
      ]
    },
    {
      "cell_type": "code",
      "execution_count": null,
      "metadata": {
        "colab": {
          "base_uri": "https://localhost:8080/",
          "height": 206
        },
        "collapsed": true,
        "id": "nK7KfDDfsPCX",
        "outputId": "dc9d6ee0-691f-4d97-da4c-4ea8326bc077"
      },
      "outputs": [
        {
          "data": {
            "application/vnd.google.colaboratory.intrinsic+json": {
              "summary": "{\n  \"name\": \"data\",\n  \"rows\": 108,\n  \"fields\": [\n    {\n      \"column\": \"Factor Coagulacion\",\n      \"properties\": {\n        \"dtype\": \"number\",\n        \"std\": 1.4251714658823018,\n        \"min\": 2.6,\n        \"max\": 11.2,\n        \"num_unique_values\": 48,\n        \"samples\": [\n          3.9,\n          6.9,\n          4.5\n        ],\n        \"semantic_type\": \"\",\n        \"description\": \"\"\n      }\n    },\n    {\n      \"column\": \"indice pronostico\",\n      \"properties\": {\n        \"dtype\": \"number\",\n        \"std\": 16,\n        \"min\": 8,\n        \"max\": 99,\n        \"num_unique_values\": 54,\n        \"samples\": [\n          54,\n          88,\n          50\n        ],\n        \"semantic_type\": \"\",\n        \"description\": \"\"\n      }\n    },\n    {\n      \"column\": \"Funcion de enzima\",\n      \"properties\": {\n        \"dtype\": \"number\",\n        \"std\": 20,\n        \"min\": 23,\n        \"max\": 119,\n        \"num_unique_values\": 63,\n        \"samples\": [\n          33,\n          48,\n          81\n        ],\n        \"semantic_type\": \"\",\n        \"description\": \"\"\n      }\n    },\n    {\n      \"column\": \"Funcion de higado\",\n      \"properties\": {\n        \"dtype\": \"number\",\n        \"std\": 1.0056046943582424,\n        \"min\": 0.74,\n        \"max\": 6.4,\n        \"num_unique_values\": 90,\n        \"samples\": [\n          4.1,\n          3.5,\n          2.91\n        ],\n        \"semantic_type\": \"\",\n        \"description\": \"\"\n      }\n    },\n    {\n      \"column\": \"Edad\",\n      \"properties\": {\n        \"dtype\": \"number\",\n        \"std\": 11,\n        \"min\": 30,\n        \"max\": 70,\n        \"num_unique_values\": 40,\n        \"samples\": [\n          70,\n          67,\n          59\n        ],\n        \"semantic_type\": \"\",\n        \"description\": \"\"\n      }\n    },\n    {\n      \"column\": \"Genero\",\n      \"properties\": {\n        \"dtype\": \"number\",\n        \"std\": 0,\n        \"min\": 0,\n        \"max\": 1,\n        \"num_unique_values\": 2,\n        \"samples\": [\n          1,\n          0\n        ],\n        \"semantic_type\": \"\",\n        \"description\": \"\"\n      }\n    },\n    {\n      \"column\": \"Alcohol (moderado)\",\n      \"properties\": {\n        \"dtype\": \"number\",\n        \"std\": 0,\n        \"min\": 0,\n        \"max\": 1,\n        \"num_unique_values\": 2,\n        \"samples\": [\n          0,\n          1\n        ],\n        \"semantic_type\": \"\",\n        \"description\": \"\"\n      }\n    },\n    {\n      \"column\": \"Alcohol (severo)\",\n      \"properties\": {\n        \"dtype\": \"number\",\n        \"std\": 0,\n        \"min\": 0,\n        \"max\": 1,\n        \"num_unique_values\": 2,\n        \"samples\": [\n          1,\n          0\n        ],\n        \"semantic_type\": \"\",\n        \"description\": \"\"\n      }\n    },\n    {\n      \"column\": \"Sobrevivencia (dias)\",\n      \"properties\": {\n        \"dtype\": \"number\",\n        \"std\": 347,\n        \"min\": 181,\n        \"max\": 2343,\n        \"num_unique_values\": 101,\n        \"samples\": [\n          569,\n          716\n        ],\n        \"semantic_type\": \"\",\n        \"description\": \"\"\n      }\n    }\n  ]\n}",
              "type": "dataframe",
              "variable_name": "data"
            },
            "text/html": [
              "\n",
              "  <div id=\"df-f7a9a2d6-2e80-40aa-a26a-65eb21259692\" class=\"colab-df-container\">\n",
              "    <div>\n",
              "<style scoped>\n",
              "    .dataframe tbody tr th:only-of-type {\n",
              "        vertical-align: middle;\n",
              "    }\n",
              "\n",
              "    .dataframe tbody tr th {\n",
              "        vertical-align: top;\n",
              "    }\n",
              "\n",
              "    .dataframe thead th {\n",
              "        text-align: right;\n",
              "    }\n",
              "</style>\n",
              "<table border=\"1\" class=\"dataframe\">\n",
              "  <thead>\n",
              "    <tr style=\"text-align: right;\">\n",
              "      <th></th>\n",
              "      <th>Factor Coagulacion</th>\n",
              "      <th>indice pronostico</th>\n",
              "      <th>Funcion de enzima</th>\n",
              "      <th>Funcion de higado</th>\n",
              "      <th>Edad</th>\n",
              "      <th>Genero</th>\n",
              "      <th>Alcohol (moderado)</th>\n",
              "      <th>Alcohol (severo)</th>\n",
              "      <th>Sobrevivencia (dias)</th>\n",
              "    </tr>\n",
              "  </thead>\n",
              "  <tbody>\n",
              "    <tr>\n",
              "      <th>0</th>\n",
              "      <td>6.7</td>\n",
              "      <td>62</td>\n",
              "      <td>81</td>\n",
              "      <td>2.59</td>\n",
              "      <td>50</td>\n",
              "      <td>0</td>\n",
              "      <td>1</td>\n",
              "      <td>0</td>\n",
              "      <td>695</td>\n",
              "    </tr>\n",
              "    <tr>\n",
              "      <th>1</th>\n",
              "      <td>5.1</td>\n",
              "      <td>59</td>\n",
              "      <td>66</td>\n",
              "      <td>1.70</td>\n",
              "      <td>39</td>\n",
              "      <td>0</td>\n",
              "      <td>0</td>\n",
              "      <td>0</td>\n",
              "      <td>403</td>\n",
              "    </tr>\n",
              "    <tr>\n",
              "      <th>2</th>\n",
              "      <td>7.4</td>\n",
              "      <td>57</td>\n",
              "      <td>83</td>\n",
              "      <td>2.16</td>\n",
              "      <td>55</td>\n",
              "      <td>0</td>\n",
              "      <td>0</td>\n",
              "      <td>0</td>\n",
              "      <td>710</td>\n",
              "    </tr>\n",
              "    <tr>\n",
              "      <th>3</th>\n",
              "      <td>6.5</td>\n",
              "      <td>73</td>\n",
              "      <td>41</td>\n",
              "      <td>2.01</td>\n",
              "      <td>48</td>\n",
              "      <td>0</td>\n",
              "      <td>0</td>\n",
              "      <td>0</td>\n",
              "      <td>349</td>\n",
              "    </tr>\n",
              "    <tr>\n",
              "      <th>4</th>\n",
              "      <td>7.8</td>\n",
              "      <td>65</td>\n",
              "      <td>115</td>\n",
              "      <td>4.30</td>\n",
              "      <td>45</td>\n",
              "      <td>0</td>\n",
              "      <td>0</td>\n",
              "      <td>1</td>\n",
              "      <td>2343</td>\n",
              "    </tr>\n",
              "  </tbody>\n",
              "</table>\n",
              "</div>\n",
              "    <div class=\"colab-df-buttons\">\n",
              "\n",
              "  <div class=\"colab-df-container\">\n",
              "    <button class=\"colab-df-convert\" onclick=\"convertToInteractive('df-f7a9a2d6-2e80-40aa-a26a-65eb21259692')\"\n",
              "            title=\"Convert this dataframe to an interactive table.\"\n",
              "            style=\"display:none;\">\n",
              "\n",
              "  <svg xmlns=\"http://www.w3.org/2000/svg\" height=\"24px\" viewBox=\"0 -960 960 960\">\n",
              "    <path d=\"M120-120v-720h720v720H120Zm60-500h600v-160H180v160Zm220 220h160v-160H400v160Zm0 220h160v-160H400v160ZM180-400h160v-160H180v160Zm440 0h160v-160H620v160ZM180-180h160v-160H180v160Zm440 0h160v-160H620v160Z\"/>\n",
              "  </svg>\n",
              "    </button>\n",
              "\n",
              "  <style>\n",
              "    .colab-df-container {\n",
              "      display:flex;\n",
              "      gap: 12px;\n",
              "    }\n",
              "\n",
              "    .colab-df-convert {\n",
              "      background-color: #E8F0FE;\n",
              "      border: none;\n",
              "      border-radius: 50%;\n",
              "      cursor: pointer;\n",
              "      display: none;\n",
              "      fill: #1967D2;\n",
              "      height: 32px;\n",
              "      padding: 0 0 0 0;\n",
              "      width: 32px;\n",
              "    }\n",
              "\n",
              "    .colab-df-convert:hover {\n",
              "      background-color: #E2EBFA;\n",
              "      box-shadow: 0px 1px 2px rgba(60, 64, 67, 0.3), 0px 1px 3px 1px rgba(60, 64, 67, 0.15);\n",
              "      fill: #174EA6;\n",
              "    }\n",
              "\n",
              "    .colab-df-buttons div {\n",
              "      margin-bottom: 4px;\n",
              "    }\n",
              "\n",
              "    [theme=dark] .colab-df-convert {\n",
              "      background-color: #3B4455;\n",
              "      fill: #D2E3FC;\n",
              "    }\n",
              "\n",
              "    [theme=dark] .colab-df-convert:hover {\n",
              "      background-color: #434B5C;\n",
              "      box-shadow: 0px 1px 3px 1px rgba(0, 0, 0, 0.15);\n",
              "      filter: drop-shadow(0px 1px 2px rgba(0, 0, 0, 0.3));\n",
              "      fill: #FFFFFF;\n",
              "    }\n",
              "  </style>\n",
              "\n",
              "    <script>\n",
              "      const buttonEl =\n",
              "        document.querySelector('#df-f7a9a2d6-2e80-40aa-a26a-65eb21259692 button.colab-df-convert');\n",
              "      buttonEl.style.display =\n",
              "        google.colab.kernel.accessAllowed ? 'block' : 'none';\n",
              "\n",
              "      async function convertToInteractive(key) {\n",
              "        const element = document.querySelector('#df-f7a9a2d6-2e80-40aa-a26a-65eb21259692');\n",
              "        const dataTable =\n",
              "          await google.colab.kernel.invokeFunction('convertToInteractive',\n",
              "                                                    [key], {});\n",
              "        if (!dataTable) return;\n",
              "\n",
              "        const docLinkHtml = 'Like what you see? Visit the ' +\n",
              "          '<a target=\"_blank\" href=https://colab.research.google.com/notebooks/data_table.ipynb>data table notebook</a>'\n",
              "          + ' to learn more about interactive tables.';\n",
              "        element.innerHTML = '';\n",
              "        dataTable['output_type'] = 'display_data';\n",
              "        await google.colab.output.renderOutput(dataTable, element);\n",
              "        const docLink = document.createElement('div');\n",
              "        docLink.innerHTML = docLinkHtml;\n",
              "        element.appendChild(docLink);\n",
              "      }\n",
              "    </script>\n",
              "  </div>\n",
              "\n",
              "\n",
              "<div id=\"df-cbbe277c-518b-4d84-bcc3-02cd4eea56d4\">\n",
              "  <button class=\"colab-df-quickchart\" onclick=\"quickchart('df-cbbe277c-518b-4d84-bcc3-02cd4eea56d4')\"\n",
              "            title=\"Suggest charts\"\n",
              "            style=\"display:none;\">\n",
              "\n",
              "<svg xmlns=\"http://www.w3.org/2000/svg\" height=\"24px\"viewBox=\"0 0 24 24\"\n",
              "     width=\"24px\">\n",
              "    <g>\n",
              "        <path d=\"M19 3H5c-1.1 0-2 .9-2 2v14c0 1.1.9 2 2 2h14c1.1 0 2-.9 2-2V5c0-1.1-.9-2-2-2zM9 17H7v-7h2v7zm4 0h-2V7h2v10zm4 0h-2v-4h2v4z\"/>\n",
              "    </g>\n",
              "</svg>\n",
              "  </button>\n",
              "\n",
              "<style>\n",
              "  .colab-df-quickchart {\n",
              "      --bg-color: #E8F0FE;\n",
              "      --fill-color: #1967D2;\n",
              "      --hover-bg-color: #E2EBFA;\n",
              "      --hover-fill-color: #174EA6;\n",
              "      --disabled-fill-color: #AAA;\n",
              "      --disabled-bg-color: #DDD;\n",
              "  }\n",
              "\n",
              "  [theme=dark] .colab-df-quickchart {\n",
              "      --bg-color: #3B4455;\n",
              "      --fill-color: #D2E3FC;\n",
              "      --hover-bg-color: #434B5C;\n",
              "      --hover-fill-color: #FFFFFF;\n",
              "      --disabled-bg-color: #3B4455;\n",
              "      --disabled-fill-color: #666;\n",
              "  }\n",
              "\n",
              "  .colab-df-quickchart {\n",
              "    background-color: var(--bg-color);\n",
              "    border: none;\n",
              "    border-radius: 50%;\n",
              "    cursor: pointer;\n",
              "    display: none;\n",
              "    fill: var(--fill-color);\n",
              "    height: 32px;\n",
              "    padding: 0;\n",
              "    width: 32px;\n",
              "  }\n",
              "\n",
              "  .colab-df-quickchart:hover {\n",
              "    background-color: var(--hover-bg-color);\n",
              "    box-shadow: 0 1px 2px rgba(60, 64, 67, 0.3), 0 1px 3px 1px rgba(60, 64, 67, 0.15);\n",
              "    fill: var(--button-hover-fill-color);\n",
              "  }\n",
              "\n",
              "  .colab-df-quickchart-complete:disabled,\n",
              "  .colab-df-quickchart-complete:disabled:hover {\n",
              "    background-color: var(--disabled-bg-color);\n",
              "    fill: var(--disabled-fill-color);\n",
              "    box-shadow: none;\n",
              "  }\n",
              "\n",
              "  .colab-df-spinner {\n",
              "    border: 2px solid var(--fill-color);\n",
              "    border-color: transparent;\n",
              "    border-bottom-color: var(--fill-color);\n",
              "    animation:\n",
              "      spin 1s steps(1) infinite;\n",
              "  }\n",
              "\n",
              "  @keyframes spin {\n",
              "    0% {\n",
              "      border-color: transparent;\n",
              "      border-bottom-color: var(--fill-color);\n",
              "      border-left-color: var(--fill-color);\n",
              "    }\n",
              "    20% {\n",
              "      border-color: transparent;\n",
              "      border-left-color: var(--fill-color);\n",
              "      border-top-color: var(--fill-color);\n",
              "    }\n",
              "    30% {\n",
              "      border-color: transparent;\n",
              "      border-left-color: var(--fill-color);\n",
              "      border-top-color: var(--fill-color);\n",
              "      border-right-color: var(--fill-color);\n",
              "    }\n",
              "    40% {\n",
              "      border-color: transparent;\n",
              "      border-right-color: var(--fill-color);\n",
              "      border-top-color: var(--fill-color);\n",
              "    }\n",
              "    60% {\n",
              "      border-color: transparent;\n",
              "      border-right-color: var(--fill-color);\n",
              "    }\n",
              "    80% {\n",
              "      border-color: transparent;\n",
              "      border-right-color: var(--fill-color);\n",
              "      border-bottom-color: var(--fill-color);\n",
              "    }\n",
              "    90% {\n",
              "      border-color: transparent;\n",
              "      border-bottom-color: var(--fill-color);\n",
              "    }\n",
              "  }\n",
              "</style>\n",
              "\n",
              "  <script>\n",
              "    async function quickchart(key) {\n",
              "      const quickchartButtonEl =\n",
              "        document.querySelector('#' + key + ' button');\n",
              "      quickchartButtonEl.disabled = true;  // To prevent multiple clicks.\n",
              "      quickchartButtonEl.classList.add('colab-df-spinner');\n",
              "      try {\n",
              "        const charts = await google.colab.kernel.invokeFunction(\n",
              "            'suggestCharts', [key], {});\n",
              "      } catch (error) {\n",
              "        console.error('Error during call to suggestCharts:', error);\n",
              "      }\n",
              "      quickchartButtonEl.classList.remove('colab-df-spinner');\n",
              "      quickchartButtonEl.classList.add('colab-df-quickchart-complete');\n",
              "    }\n",
              "    (() => {\n",
              "      let quickchartButtonEl =\n",
              "        document.querySelector('#df-cbbe277c-518b-4d84-bcc3-02cd4eea56d4 button');\n",
              "      quickchartButtonEl.style.display =\n",
              "        google.colab.kernel.accessAllowed ? 'block' : 'none';\n",
              "    })();\n",
              "  </script>\n",
              "</div>\n",
              "\n",
              "    </div>\n",
              "  </div>\n"
            ],
            "text/plain": [
              "   Factor Coagulacion  indice pronostico  Funcion de enzima  \\\n",
              "0                 6.7                 62                 81   \n",
              "1                 5.1                 59                 66   \n",
              "2                 7.4                 57                 83   \n",
              "3                 6.5                 73                 41   \n",
              "4                 7.8                 65                115   \n",
              "\n",
              "   Funcion de higado  Edad  Genero  Alcohol (moderado)  Alcohol (severo)  \\\n",
              "0               2.59    50       0                   1                 0   \n",
              "1               1.70    39       0                   0                 0   \n",
              "2               2.16    55       0                   0                 0   \n",
              "3               2.01    48       0                   0                 0   \n",
              "4               4.30    45       0                   0                 1   \n",
              "\n",
              "   Sobrevivencia (dias)  \n",
              "0                   695  \n",
              "1                   403  \n",
              "2                   710  \n",
              "3                   349  \n",
              "4                  2343  "
            ]
          },
          "execution_count": 59,
          "metadata": {},
          "output_type": "execute_result"
        }
      ],
      "source": [
        "data.head()"
      ]
    },
    {
      "cell_type": "code",
      "execution_count": null,
      "metadata": {
        "id": "0L1MrjsRzezD"
      },
      "outputs": [],
      "source": [
        "X = data.iloc[:, :8]\n",
        "Y = data.iloc[:, 8:]"
      ]
    },
    {
      "cell_type": "code",
      "execution_count": null,
      "metadata": {
        "colab": {
          "base_uri": "https://localhost:8080/",
          "height": 206
        },
        "collapsed": true,
        "id": "Lcd47remzh3G",
        "outputId": "778325e7-5865-4905-a55d-59713cbd5861"
      },
      "outputs": [
        {
          "data": {
            "application/vnd.google.colaboratory.intrinsic+json": {
              "summary": "{\n  \"name\": \"X\",\n  \"rows\": 108,\n  \"fields\": [\n    {\n      \"column\": \"Factor Coagulacion\",\n      \"properties\": {\n        \"dtype\": \"number\",\n        \"std\": 1.4251714658823018,\n        \"min\": 2.6,\n        \"max\": 11.2,\n        \"num_unique_values\": 48,\n        \"samples\": [\n          3.9,\n          6.9,\n          4.5\n        ],\n        \"semantic_type\": \"\",\n        \"description\": \"\"\n      }\n    },\n    {\n      \"column\": \"indice pronostico\",\n      \"properties\": {\n        \"dtype\": \"number\",\n        \"std\": 16,\n        \"min\": 8,\n        \"max\": 99,\n        \"num_unique_values\": 54,\n        \"samples\": [\n          54,\n          88,\n          50\n        ],\n        \"semantic_type\": \"\",\n        \"description\": \"\"\n      }\n    },\n    {\n      \"column\": \"Funcion de enzima\",\n      \"properties\": {\n        \"dtype\": \"number\",\n        \"std\": 20,\n        \"min\": 23,\n        \"max\": 119,\n        \"num_unique_values\": 63,\n        \"samples\": [\n          33,\n          48,\n          81\n        ],\n        \"semantic_type\": \"\",\n        \"description\": \"\"\n      }\n    },\n    {\n      \"column\": \"Funcion de higado\",\n      \"properties\": {\n        \"dtype\": \"number\",\n        \"std\": 1.0056046943582424,\n        \"min\": 0.74,\n        \"max\": 6.4,\n        \"num_unique_values\": 90,\n        \"samples\": [\n          4.1,\n          3.5,\n          2.91\n        ],\n        \"semantic_type\": \"\",\n        \"description\": \"\"\n      }\n    },\n    {\n      \"column\": \"Edad\",\n      \"properties\": {\n        \"dtype\": \"number\",\n        \"std\": 11,\n        \"min\": 30,\n        \"max\": 70,\n        \"num_unique_values\": 40,\n        \"samples\": [\n          70,\n          67,\n          59\n        ],\n        \"semantic_type\": \"\",\n        \"description\": \"\"\n      }\n    },\n    {\n      \"column\": \"Genero\",\n      \"properties\": {\n        \"dtype\": \"number\",\n        \"std\": 0,\n        \"min\": 0,\n        \"max\": 1,\n        \"num_unique_values\": 2,\n        \"samples\": [\n          1,\n          0\n        ],\n        \"semantic_type\": \"\",\n        \"description\": \"\"\n      }\n    },\n    {\n      \"column\": \"Alcohol (moderado)\",\n      \"properties\": {\n        \"dtype\": \"number\",\n        \"std\": 0,\n        \"min\": 0,\n        \"max\": 1,\n        \"num_unique_values\": 2,\n        \"samples\": [\n          0,\n          1\n        ],\n        \"semantic_type\": \"\",\n        \"description\": \"\"\n      }\n    },\n    {\n      \"column\": \"Alcohol (severo)\",\n      \"properties\": {\n        \"dtype\": \"number\",\n        \"std\": 0,\n        \"min\": 0,\n        \"max\": 1,\n        \"num_unique_values\": 2,\n        \"samples\": [\n          1,\n          0\n        ],\n        \"semantic_type\": \"\",\n        \"description\": \"\"\n      }\n    }\n  ]\n}",
              "type": "dataframe",
              "variable_name": "X"
            },
            "text/html": [
              "\n",
              "  <div id=\"df-49a54e1f-cc73-4e91-8f4a-2fb98a95c25b\" class=\"colab-df-container\">\n",
              "    <div>\n",
              "<style scoped>\n",
              "    .dataframe tbody tr th:only-of-type {\n",
              "        vertical-align: middle;\n",
              "    }\n",
              "\n",
              "    .dataframe tbody tr th {\n",
              "        vertical-align: top;\n",
              "    }\n",
              "\n",
              "    .dataframe thead th {\n",
              "        text-align: right;\n",
              "    }\n",
              "</style>\n",
              "<table border=\"1\" class=\"dataframe\">\n",
              "  <thead>\n",
              "    <tr style=\"text-align: right;\">\n",
              "      <th></th>\n",
              "      <th>Factor Coagulacion</th>\n",
              "      <th>indice pronostico</th>\n",
              "      <th>Funcion de enzima</th>\n",
              "      <th>Funcion de higado</th>\n",
              "      <th>Edad</th>\n",
              "      <th>Genero</th>\n",
              "      <th>Alcohol (moderado)</th>\n",
              "      <th>Alcohol (severo)</th>\n",
              "    </tr>\n",
              "  </thead>\n",
              "  <tbody>\n",
              "    <tr>\n",
              "      <th>0</th>\n",
              "      <td>6.7</td>\n",
              "      <td>62</td>\n",
              "      <td>81</td>\n",
              "      <td>2.59</td>\n",
              "      <td>50</td>\n",
              "      <td>0</td>\n",
              "      <td>1</td>\n",
              "      <td>0</td>\n",
              "    </tr>\n",
              "    <tr>\n",
              "      <th>1</th>\n",
              "      <td>5.1</td>\n",
              "      <td>59</td>\n",
              "      <td>66</td>\n",
              "      <td>1.70</td>\n",
              "      <td>39</td>\n",
              "      <td>0</td>\n",
              "      <td>0</td>\n",
              "      <td>0</td>\n",
              "    </tr>\n",
              "    <tr>\n",
              "      <th>2</th>\n",
              "      <td>7.4</td>\n",
              "      <td>57</td>\n",
              "      <td>83</td>\n",
              "      <td>2.16</td>\n",
              "      <td>55</td>\n",
              "      <td>0</td>\n",
              "      <td>0</td>\n",
              "      <td>0</td>\n",
              "    </tr>\n",
              "    <tr>\n",
              "      <th>3</th>\n",
              "      <td>6.5</td>\n",
              "      <td>73</td>\n",
              "      <td>41</td>\n",
              "      <td>2.01</td>\n",
              "      <td>48</td>\n",
              "      <td>0</td>\n",
              "      <td>0</td>\n",
              "      <td>0</td>\n",
              "    </tr>\n",
              "    <tr>\n",
              "      <th>4</th>\n",
              "      <td>7.8</td>\n",
              "      <td>65</td>\n",
              "      <td>115</td>\n",
              "      <td>4.30</td>\n",
              "      <td>45</td>\n",
              "      <td>0</td>\n",
              "      <td>0</td>\n",
              "      <td>1</td>\n",
              "    </tr>\n",
              "  </tbody>\n",
              "</table>\n",
              "</div>\n",
              "    <div class=\"colab-df-buttons\">\n",
              "\n",
              "  <div class=\"colab-df-container\">\n",
              "    <button class=\"colab-df-convert\" onclick=\"convertToInteractive('df-49a54e1f-cc73-4e91-8f4a-2fb98a95c25b')\"\n",
              "            title=\"Convert this dataframe to an interactive table.\"\n",
              "            style=\"display:none;\">\n",
              "\n",
              "  <svg xmlns=\"http://www.w3.org/2000/svg\" height=\"24px\" viewBox=\"0 -960 960 960\">\n",
              "    <path d=\"M120-120v-720h720v720H120Zm60-500h600v-160H180v160Zm220 220h160v-160H400v160Zm0 220h160v-160H400v160ZM180-400h160v-160H180v160Zm440 0h160v-160H620v160ZM180-180h160v-160H180v160Zm440 0h160v-160H620v160Z\"/>\n",
              "  </svg>\n",
              "    </button>\n",
              "\n",
              "  <style>\n",
              "    .colab-df-container {\n",
              "      display:flex;\n",
              "      gap: 12px;\n",
              "    }\n",
              "\n",
              "    .colab-df-convert {\n",
              "      background-color: #E8F0FE;\n",
              "      border: none;\n",
              "      border-radius: 50%;\n",
              "      cursor: pointer;\n",
              "      display: none;\n",
              "      fill: #1967D2;\n",
              "      height: 32px;\n",
              "      padding: 0 0 0 0;\n",
              "      width: 32px;\n",
              "    }\n",
              "\n",
              "    .colab-df-convert:hover {\n",
              "      background-color: #E2EBFA;\n",
              "      box-shadow: 0px 1px 2px rgba(60, 64, 67, 0.3), 0px 1px 3px 1px rgba(60, 64, 67, 0.15);\n",
              "      fill: #174EA6;\n",
              "    }\n",
              "\n",
              "    .colab-df-buttons div {\n",
              "      margin-bottom: 4px;\n",
              "    }\n",
              "\n",
              "    [theme=dark] .colab-df-convert {\n",
              "      background-color: #3B4455;\n",
              "      fill: #D2E3FC;\n",
              "    }\n",
              "\n",
              "    [theme=dark] .colab-df-convert:hover {\n",
              "      background-color: #434B5C;\n",
              "      box-shadow: 0px 1px 3px 1px rgba(0, 0, 0, 0.15);\n",
              "      filter: drop-shadow(0px 1px 2px rgba(0, 0, 0, 0.3));\n",
              "      fill: #FFFFFF;\n",
              "    }\n",
              "  </style>\n",
              "\n",
              "    <script>\n",
              "      const buttonEl =\n",
              "        document.querySelector('#df-49a54e1f-cc73-4e91-8f4a-2fb98a95c25b button.colab-df-convert');\n",
              "      buttonEl.style.display =\n",
              "        google.colab.kernel.accessAllowed ? 'block' : 'none';\n",
              "\n",
              "      async function convertToInteractive(key) {\n",
              "        const element = document.querySelector('#df-49a54e1f-cc73-4e91-8f4a-2fb98a95c25b');\n",
              "        const dataTable =\n",
              "          await google.colab.kernel.invokeFunction('convertToInteractive',\n",
              "                                                    [key], {});\n",
              "        if (!dataTable) return;\n",
              "\n",
              "        const docLinkHtml = 'Like what you see? Visit the ' +\n",
              "          '<a target=\"_blank\" href=https://colab.research.google.com/notebooks/data_table.ipynb>data table notebook</a>'\n",
              "          + ' to learn more about interactive tables.';\n",
              "        element.innerHTML = '';\n",
              "        dataTable['output_type'] = 'display_data';\n",
              "        await google.colab.output.renderOutput(dataTable, element);\n",
              "        const docLink = document.createElement('div');\n",
              "        docLink.innerHTML = docLinkHtml;\n",
              "        element.appendChild(docLink);\n",
              "      }\n",
              "    </script>\n",
              "  </div>\n",
              "\n",
              "\n",
              "<div id=\"df-af52b612-ec09-4d21-8254-757809851a11\">\n",
              "  <button class=\"colab-df-quickchart\" onclick=\"quickchart('df-af52b612-ec09-4d21-8254-757809851a11')\"\n",
              "            title=\"Suggest charts\"\n",
              "            style=\"display:none;\">\n",
              "\n",
              "<svg xmlns=\"http://www.w3.org/2000/svg\" height=\"24px\"viewBox=\"0 0 24 24\"\n",
              "     width=\"24px\">\n",
              "    <g>\n",
              "        <path d=\"M19 3H5c-1.1 0-2 .9-2 2v14c0 1.1.9 2 2 2h14c1.1 0 2-.9 2-2V5c0-1.1-.9-2-2-2zM9 17H7v-7h2v7zm4 0h-2V7h2v10zm4 0h-2v-4h2v4z\"/>\n",
              "    </g>\n",
              "</svg>\n",
              "  </button>\n",
              "\n",
              "<style>\n",
              "  .colab-df-quickchart {\n",
              "      --bg-color: #E8F0FE;\n",
              "      --fill-color: #1967D2;\n",
              "      --hover-bg-color: #E2EBFA;\n",
              "      --hover-fill-color: #174EA6;\n",
              "      --disabled-fill-color: #AAA;\n",
              "      --disabled-bg-color: #DDD;\n",
              "  }\n",
              "\n",
              "  [theme=dark] .colab-df-quickchart {\n",
              "      --bg-color: #3B4455;\n",
              "      --fill-color: #D2E3FC;\n",
              "      --hover-bg-color: #434B5C;\n",
              "      --hover-fill-color: #FFFFFF;\n",
              "      --disabled-bg-color: #3B4455;\n",
              "      --disabled-fill-color: #666;\n",
              "  }\n",
              "\n",
              "  .colab-df-quickchart {\n",
              "    background-color: var(--bg-color);\n",
              "    border: none;\n",
              "    border-radius: 50%;\n",
              "    cursor: pointer;\n",
              "    display: none;\n",
              "    fill: var(--fill-color);\n",
              "    height: 32px;\n",
              "    padding: 0;\n",
              "    width: 32px;\n",
              "  }\n",
              "\n",
              "  .colab-df-quickchart:hover {\n",
              "    background-color: var(--hover-bg-color);\n",
              "    box-shadow: 0 1px 2px rgba(60, 64, 67, 0.3), 0 1px 3px 1px rgba(60, 64, 67, 0.15);\n",
              "    fill: var(--button-hover-fill-color);\n",
              "  }\n",
              "\n",
              "  .colab-df-quickchart-complete:disabled,\n",
              "  .colab-df-quickchart-complete:disabled:hover {\n",
              "    background-color: var(--disabled-bg-color);\n",
              "    fill: var(--disabled-fill-color);\n",
              "    box-shadow: none;\n",
              "  }\n",
              "\n",
              "  .colab-df-spinner {\n",
              "    border: 2px solid var(--fill-color);\n",
              "    border-color: transparent;\n",
              "    border-bottom-color: var(--fill-color);\n",
              "    animation:\n",
              "      spin 1s steps(1) infinite;\n",
              "  }\n",
              "\n",
              "  @keyframes spin {\n",
              "    0% {\n",
              "      border-color: transparent;\n",
              "      border-bottom-color: var(--fill-color);\n",
              "      border-left-color: var(--fill-color);\n",
              "    }\n",
              "    20% {\n",
              "      border-color: transparent;\n",
              "      border-left-color: var(--fill-color);\n",
              "      border-top-color: var(--fill-color);\n",
              "    }\n",
              "    30% {\n",
              "      border-color: transparent;\n",
              "      border-left-color: var(--fill-color);\n",
              "      border-top-color: var(--fill-color);\n",
              "      border-right-color: var(--fill-color);\n",
              "    }\n",
              "    40% {\n",
              "      border-color: transparent;\n",
              "      border-right-color: var(--fill-color);\n",
              "      border-top-color: var(--fill-color);\n",
              "    }\n",
              "    60% {\n",
              "      border-color: transparent;\n",
              "      border-right-color: var(--fill-color);\n",
              "    }\n",
              "    80% {\n",
              "      border-color: transparent;\n",
              "      border-right-color: var(--fill-color);\n",
              "      border-bottom-color: var(--fill-color);\n",
              "    }\n",
              "    90% {\n",
              "      border-color: transparent;\n",
              "      border-bottom-color: var(--fill-color);\n",
              "    }\n",
              "  }\n",
              "</style>\n",
              "\n",
              "  <script>\n",
              "    async function quickchart(key) {\n",
              "      const quickchartButtonEl =\n",
              "        document.querySelector('#' + key + ' button');\n",
              "      quickchartButtonEl.disabled = true;  // To prevent multiple clicks.\n",
              "      quickchartButtonEl.classList.add('colab-df-spinner');\n",
              "      try {\n",
              "        const charts = await google.colab.kernel.invokeFunction(\n",
              "            'suggestCharts', [key], {});\n",
              "      } catch (error) {\n",
              "        console.error('Error during call to suggestCharts:', error);\n",
              "      }\n",
              "      quickchartButtonEl.classList.remove('colab-df-spinner');\n",
              "      quickchartButtonEl.classList.add('colab-df-quickchart-complete');\n",
              "    }\n",
              "    (() => {\n",
              "      let quickchartButtonEl =\n",
              "        document.querySelector('#df-af52b612-ec09-4d21-8254-757809851a11 button');\n",
              "      quickchartButtonEl.style.display =\n",
              "        google.colab.kernel.accessAllowed ? 'block' : 'none';\n",
              "    })();\n",
              "  </script>\n",
              "</div>\n",
              "\n",
              "    </div>\n",
              "  </div>\n"
            ],
            "text/plain": [
              "   Factor Coagulacion  indice pronostico  Funcion de enzima  \\\n",
              "0                 6.7                 62                 81   \n",
              "1                 5.1                 59                 66   \n",
              "2                 7.4                 57                 83   \n",
              "3                 6.5                 73                 41   \n",
              "4                 7.8                 65                115   \n",
              "\n",
              "   Funcion de higado  Edad  Genero  Alcohol (moderado)  Alcohol (severo)  \n",
              "0               2.59    50       0                   1                 0  \n",
              "1               1.70    39       0                   0                 0  \n",
              "2               2.16    55       0                   0                 0  \n",
              "3               2.01    48       0                   0                 0  \n",
              "4               4.30    45       0                   0                 1  "
            ]
          },
          "execution_count": 61,
          "metadata": {},
          "output_type": "execute_result"
        }
      ],
      "source": [
        "X.head()"
      ]
    },
    {
      "cell_type": "code",
      "execution_count": null,
      "metadata": {
        "colab": {
          "base_uri": "https://localhost:8080/",
          "height": 206
        },
        "collapsed": true,
        "id": "ABEWhwqazkL8",
        "outputId": "876fb134-dec1-4ad1-ba89-00184f6a0452"
      },
      "outputs": [
        {
          "data": {
            "application/vnd.google.colaboratory.intrinsic+json": {
              "summary": "{\n  \"name\": \"Y\",\n  \"rows\": 108,\n  \"fields\": [\n    {\n      \"column\": \"Sobrevivencia (dias)\",\n      \"properties\": {\n        \"dtype\": \"number\",\n        \"std\": 347,\n        \"min\": 181,\n        \"max\": 2343,\n        \"num_unique_values\": 101,\n        \"samples\": [\n          569,\n          716,\n          419\n        ],\n        \"semantic_type\": \"\",\n        \"description\": \"\"\n      }\n    }\n  ]\n}",
              "type": "dataframe",
              "variable_name": "Y"
            },
            "text/html": [
              "\n",
              "  <div id=\"df-345b0960-a8da-4e0f-bd62-a981830ac62d\" class=\"colab-df-container\">\n",
              "    <div>\n",
              "<style scoped>\n",
              "    .dataframe tbody tr th:only-of-type {\n",
              "        vertical-align: middle;\n",
              "    }\n",
              "\n",
              "    .dataframe tbody tr th {\n",
              "        vertical-align: top;\n",
              "    }\n",
              "\n",
              "    .dataframe thead th {\n",
              "        text-align: right;\n",
              "    }\n",
              "</style>\n",
              "<table border=\"1\" class=\"dataframe\">\n",
              "  <thead>\n",
              "    <tr style=\"text-align: right;\">\n",
              "      <th></th>\n",
              "      <th>Sobrevivencia (dias)</th>\n",
              "    </tr>\n",
              "  </thead>\n",
              "  <tbody>\n",
              "    <tr>\n",
              "      <th>0</th>\n",
              "      <td>695</td>\n",
              "    </tr>\n",
              "    <tr>\n",
              "      <th>1</th>\n",
              "      <td>403</td>\n",
              "    </tr>\n",
              "    <tr>\n",
              "      <th>2</th>\n",
              "      <td>710</td>\n",
              "    </tr>\n",
              "    <tr>\n",
              "      <th>3</th>\n",
              "      <td>349</td>\n",
              "    </tr>\n",
              "    <tr>\n",
              "      <th>4</th>\n",
              "      <td>2343</td>\n",
              "    </tr>\n",
              "  </tbody>\n",
              "</table>\n",
              "</div>\n",
              "    <div class=\"colab-df-buttons\">\n",
              "\n",
              "  <div class=\"colab-df-container\">\n",
              "    <button class=\"colab-df-convert\" onclick=\"convertToInteractive('df-345b0960-a8da-4e0f-bd62-a981830ac62d')\"\n",
              "            title=\"Convert this dataframe to an interactive table.\"\n",
              "            style=\"display:none;\">\n",
              "\n",
              "  <svg xmlns=\"http://www.w3.org/2000/svg\" height=\"24px\" viewBox=\"0 -960 960 960\">\n",
              "    <path d=\"M120-120v-720h720v720H120Zm60-500h600v-160H180v160Zm220 220h160v-160H400v160Zm0 220h160v-160H400v160ZM180-400h160v-160H180v160Zm440 0h160v-160H620v160ZM180-180h160v-160H180v160Zm440 0h160v-160H620v160Z\"/>\n",
              "  </svg>\n",
              "    </button>\n",
              "\n",
              "  <style>\n",
              "    .colab-df-container {\n",
              "      display:flex;\n",
              "      gap: 12px;\n",
              "    }\n",
              "\n",
              "    .colab-df-convert {\n",
              "      background-color: #E8F0FE;\n",
              "      border: none;\n",
              "      border-radius: 50%;\n",
              "      cursor: pointer;\n",
              "      display: none;\n",
              "      fill: #1967D2;\n",
              "      height: 32px;\n",
              "      padding: 0 0 0 0;\n",
              "      width: 32px;\n",
              "    }\n",
              "\n",
              "    .colab-df-convert:hover {\n",
              "      background-color: #E2EBFA;\n",
              "      box-shadow: 0px 1px 2px rgba(60, 64, 67, 0.3), 0px 1px 3px 1px rgba(60, 64, 67, 0.15);\n",
              "      fill: #174EA6;\n",
              "    }\n",
              "\n",
              "    .colab-df-buttons div {\n",
              "      margin-bottom: 4px;\n",
              "    }\n",
              "\n",
              "    [theme=dark] .colab-df-convert {\n",
              "      background-color: #3B4455;\n",
              "      fill: #D2E3FC;\n",
              "    }\n",
              "\n",
              "    [theme=dark] .colab-df-convert:hover {\n",
              "      background-color: #434B5C;\n",
              "      box-shadow: 0px 1px 3px 1px rgba(0, 0, 0, 0.15);\n",
              "      filter: drop-shadow(0px 1px 2px rgba(0, 0, 0, 0.3));\n",
              "      fill: #FFFFFF;\n",
              "    }\n",
              "  </style>\n",
              "\n",
              "    <script>\n",
              "      const buttonEl =\n",
              "        document.querySelector('#df-345b0960-a8da-4e0f-bd62-a981830ac62d button.colab-df-convert');\n",
              "      buttonEl.style.display =\n",
              "        google.colab.kernel.accessAllowed ? 'block' : 'none';\n",
              "\n",
              "      async function convertToInteractive(key) {\n",
              "        const element = document.querySelector('#df-345b0960-a8da-4e0f-bd62-a981830ac62d');\n",
              "        const dataTable =\n",
              "          await google.colab.kernel.invokeFunction('convertToInteractive',\n",
              "                                                    [key], {});\n",
              "        if (!dataTable) return;\n",
              "\n",
              "        const docLinkHtml = 'Like what you see? Visit the ' +\n",
              "          '<a target=\"_blank\" href=https://colab.research.google.com/notebooks/data_table.ipynb>data table notebook</a>'\n",
              "          + ' to learn more about interactive tables.';\n",
              "        element.innerHTML = '';\n",
              "        dataTable['output_type'] = 'display_data';\n",
              "        await google.colab.output.renderOutput(dataTable, element);\n",
              "        const docLink = document.createElement('div');\n",
              "        docLink.innerHTML = docLinkHtml;\n",
              "        element.appendChild(docLink);\n",
              "      }\n",
              "    </script>\n",
              "  </div>\n",
              "\n",
              "\n",
              "<div id=\"df-17f72a7c-643f-4b29-b5d6-c294ffab8170\">\n",
              "  <button class=\"colab-df-quickchart\" onclick=\"quickchart('df-17f72a7c-643f-4b29-b5d6-c294ffab8170')\"\n",
              "            title=\"Suggest charts\"\n",
              "            style=\"display:none;\">\n",
              "\n",
              "<svg xmlns=\"http://www.w3.org/2000/svg\" height=\"24px\"viewBox=\"0 0 24 24\"\n",
              "     width=\"24px\">\n",
              "    <g>\n",
              "        <path d=\"M19 3H5c-1.1 0-2 .9-2 2v14c0 1.1.9 2 2 2h14c1.1 0 2-.9 2-2V5c0-1.1-.9-2-2-2zM9 17H7v-7h2v7zm4 0h-2V7h2v10zm4 0h-2v-4h2v4z\"/>\n",
              "    </g>\n",
              "</svg>\n",
              "  </button>\n",
              "\n",
              "<style>\n",
              "  .colab-df-quickchart {\n",
              "      --bg-color: #E8F0FE;\n",
              "      --fill-color: #1967D2;\n",
              "      --hover-bg-color: #E2EBFA;\n",
              "      --hover-fill-color: #174EA6;\n",
              "      --disabled-fill-color: #AAA;\n",
              "      --disabled-bg-color: #DDD;\n",
              "  }\n",
              "\n",
              "  [theme=dark] .colab-df-quickchart {\n",
              "      --bg-color: #3B4455;\n",
              "      --fill-color: #D2E3FC;\n",
              "      --hover-bg-color: #434B5C;\n",
              "      --hover-fill-color: #FFFFFF;\n",
              "      --disabled-bg-color: #3B4455;\n",
              "      --disabled-fill-color: #666;\n",
              "  }\n",
              "\n",
              "  .colab-df-quickchart {\n",
              "    background-color: var(--bg-color);\n",
              "    border: none;\n",
              "    border-radius: 50%;\n",
              "    cursor: pointer;\n",
              "    display: none;\n",
              "    fill: var(--fill-color);\n",
              "    height: 32px;\n",
              "    padding: 0;\n",
              "    width: 32px;\n",
              "  }\n",
              "\n",
              "  .colab-df-quickchart:hover {\n",
              "    background-color: var(--hover-bg-color);\n",
              "    box-shadow: 0 1px 2px rgba(60, 64, 67, 0.3), 0 1px 3px 1px rgba(60, 64, 67, 0.15);\n",
              "    fill: var(--button-hover-fill-color);\n",
              "  }\n",
              "\n",
              "  .colab-df-quickchart-complete:disabled,\n",
              "  .colab-df-quickchart-complete:disabled:hover {\n",
              "    background-color: var(--disabled-bg-color);\n",
              "    fill: var(--disabled-fill-color);\n",
              "    box-shadow: none;\n",
              "  }\n",
              "\n",
              "  .colab-df-spinner {\n",
              "    border: 2px solid var(--fill-color);\n",
              "    border-color: transparent;\n",
              "    border-bottom-color: var(--fill-color);\n",
              "    animation:\n",
              "      spin 1s steps(1) infinite;\n",
              "  }\n",
              "\n",
              "  @keyframes spin {\n",
              "    0% {\n",
              "      border-color: transparent;\n",
              "      border-bottom-color: var(--fill-color);\n",
              "      border-left-color: var(--fill-color);\n",
              "    }\n",
              "    20% {\n",
              "      border-color: transparent;\n",
              "      border-left-color: var(--fill-color);\n",
              "      border-top-color: var(--fill-color);\n",
              "    }\n",
              "    30% {\n",
              "      border-color: transparent;\n",
              "      border-left-color: var(--fill-color);\n",
              "      border-top-color: var(--fill-color);\n",
              "      border-right-color: var(--fill-color);\n",
              "    }\n",
              "    40% {\n",
              "      border-color: transparent;\n",
              "      border-right-color: var(--fill-color);\n",
              "      border-top-color: var(--fill-color);\n",
              "    }\n",
              "    60% {\n",
              "      border-color: transparent;\n",
              "      border-right-color: var(--fill-color);\n",
              "    }\n",
              "    80% {\n",
              "      border-color: transparent;\n",
              "      border-right-color: var(--fill-color);\n",
              "      border-bottom-color: var(--fill-color);\n",
              "    }\n",
              "    90% {\n",
              "      border-color: transparent;\n",
              "      border-bottom-color: var(--fill-color);\n",
              "    }\n",
              "  }\n",
              "</style>\n",
              "\n",
              "  <script>\n",
              "    async function quickchart(key) {\n",
              "      const quickchartButtonEl =\n",
              "        document.querySelector('#' + key + ' button');\n",
              "      quickchartButtonEl.disabled = true;  // To prevent multiple clicks.\n",
              "      quickchartButtonEl.classList.add('colab-df-spinner');\n",
              "      try {\n",
              "        const charts = await google.colab.kernel.invokeFunction(\n",
              "            'suggestCharts', [key], {});\n",
              "      } catch (error) {\n",
              "        console.error('Error during call to suggestCharts:', error);\n",
              "      }\n",
              "      quickchartButtonEl.classList.remove('colab-df-spinner');\n",
              "      quickchartButtonEl.classList.add('colab-df-quickchart-complete');\n",
              "    }\n",
              "    (() => {\n",
              "      let quickchartButtonEl =\n",
              "        document.querySelector('#df-17f72a7c-643f-4b29-b5d6-c294ffab8170 button');\n",
              "      quickchartButtonEl.style.display =\n",
              "        google.colab.kernel.accessAllowed ? 'block' : 'none';\n",
              "    })();\n",
              "  </script>\n",
              "</div>\n",
              "\n",
              "    </div>\n",
              "  </div>\n"
            ],
            "text/plain": [
              "   Sobrevivencia (dias)\n",
              "0                   695\n",
              "1                   403\n",
              "2                   710\n",
              "3                   349\n",
              "4                  2343"
            ]
          },
          "execution_count": 62,
          "metadata": {},
          "output_type": "execute_result"
        }
      ],
      "source": [
        "Y.head()"
      ]
    },
    {
      "cell_type": "code",
      "execution_count": null,
      "metadata": {
        "id": "Nm9H_zbmzqIA"
      },
      "outputs": [],
      "source": [
        "scaler = MinMaxScaler()\n",
        "X_scal = scaler.fit_transform(X)\n",
        "Y_scal = scaler.fit_transform(Y)"
      ]
    },
    {
      "cell_type": "code",
      "execution_count": null,
      "metadata": {
        "colab": {
          "base_uri": "https://localhost:8080/"
        },
        "collapsed": true,
        "id": "p0fDJ1NJz6dG",
        "outputId": "06539864-f69b-42ba-8e11-c76bb1104253"
      },
      "outputs": [
        {
          "name": "stdout",
          "output_type": "stream",
          "text": [
            "Matriz X escalada:\n",
            "     Factor Coagulacion  indice pronostico  Funcion de enzima  \\\n",
            "0              0.476744           0.593407           0.604167   \n",
            "1              0.290698           0.560440           0.447917   \n",
            "2              0.558140           0.538462           0.625000   \n",
            "3              0.453488           0.714286           0.187500   \n",
            "4              0.604651           0.626374           0.958333   \n",
            "..                  ...                ...                ...   \n",
            "103            0.372093           0.681319           0.427083   \n",
            "104            0.325581           0.615385           0.604167   \n",
            "105            0.500000           0.901099           0.104167   \n",
            "106            0.616279           0.406593           0.333333   \n",
            "107            0.220930           0.659341           0.385417   \n",
            "\n",
            "     Funcion de higado   Edad  Genero  Alcohol (moderado)  Alcohol (severo)  \n",
            "0             0.326855  0.500     0.0                 1.0               0.0  \n",
            "1             0.169611  0.225     0.0                 0.0               0.0  \n",
            "2             0.250883  0.625     0.0                 0.0               0.0  \n",
            "3             0.224382  0.450     0.0                 0.0               0.0  \n",
            "4             0.628975  0.375     0.0                 0.0               1.0  \n",
            "..                 ...    ...     ...                 ...               ...  \n",
            "103           0.314488  0.475     0.0                 1.0               0.0  \n",
            "104           0.109541  0.800     0.0                 1.0               0.0  \n",
            "105           0.360424  0.450     1.0                 0.0               0.0  \n",
            "106           0.303887  0.325     0.0                 1.0               0.0  \n",
            "107           0.234982  0.725     0.0                 0.0               0.0  \n",
            "\n",
            "[108 rows x 8 columns]\n"
          ]
        }
      ],
      "source": [
        "print(\"Matriz X escalada:\")\n",
        "print(pd.DataFrame(X_scal, columns=X.columns))"
      ]
    },
    {
      "cell_type": "code",
      "execution_count": null,
      "metadata": {
        "id": "e6uLVvqk0heS"
      },
      "outputs": [],
      "source": [
        "X_scal = np.column_stack((np.ones(X_scal.shape[0]), X_scal))"
      ]
    },
    {
      "cell_type": "code",
      "execution_count": null,
      "metadata": {
        "colab": {
          "base_uri": "https://localhost:8080/"
        },
        "id": "95dsu2Pq0ySs",
        "outputId": "8a665c06-cef4-4dbc-8dab-dd15e2db2e38"
      },
      "outputs": [
        {
          "data": {
            "text/plain": [
              "array([[1.        , 0.47674419, 0.59340659, 0.60416667, 0.32685512,\n",
              "        0.5       , 0.        , 1.        , 0.        ],\n",
              "       [1.        , 0.29069767, 0.56043956, 0.44791667, 0.16961131,\n",
              "        0.225     , 0.        , 0.        , 0.        ],\n",
              "       [1.        , 0.55813953, 0.53846154, 0.625     , 0.25088339,\n",
              "        0.625     , 0.        , 0.        , 0.        ],\n",
              "       [1.        , 0.45348837, 0.71428571, 0.1875    , 0.22438163,\n",
              "        0.45      , 0.        , 0.        , 0.        ],\n",
              "       [1.        , 0.60465116, 0.62637363, 0.95833333, 0.62897527,\n",
              "        0.375     , 0.        , 0.        , 1.        ]])"
            ]
          },
          "execution_count": 66,
          "metadata": {},
          "output_type": "execute_result"
        }
      ],
      "source": [
        "X_scal[0:5]"
      ]
    },
    {
      "cell_type": "markdown",
      "metadata": {
        "id": "Wo2hIAdW32rF"
      },
      "source": [
        "![image.png](data:image/png;base64,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)"
      ]
    },
    {
      "cell_type": "code",
      "execution_count": null,
      "metadata": {
        "colab": {
          "base_uri": "https://localhost:8080/"
        },
        "id": "Q8hN0wI71S_6",
        "outputId": "ae699a0c-982a-4a9e-ac9f-384d1b681b0a"
      },
      "outputs": [
        {
          "name": "stdout",
          "output_type": "stream",
          "text": [
            "[[ 0.03714196  0.01278513  0.03153001 ... -0.0107616   0.03002929\n",
            "   0.00244981]\n",
            " [ 0.01278513  0.06106075  0.04827415 ...  0.02342793  0.0143413\n",
            "   0.03831749]\n",
            " [ 0.03153001  0.04827415  0.09511866 ...  0.02121118  0.02055136\n",
            "   0.03079561]\n",
            " ...\n",
            " [-0.0107616   0.02342793  0.02121118 ...  0.10349403  0.00417997\n",
            "   0.03037262]\n",
            " [ 0.03002929  0.0143413   0.02055136 ...  0.00417997  0.06246334\n",
            "  -0.00802438]\n",
            " [ 0.00244981  0.03831749  0.03079561 ...  0.03037262 -0.00802438\n",
            "   0.05864247]]\n"
          ]
        }
      ],
      "source": [
        "H = X_scal @ np.linalg.inv(X_scal.T @ X_scal) @ X_scal.T\n",
        "print(H)"
      ]
    },
    {
      "cell_type": "code",
      "execution_count": null,
      "metadata": {
        "colab": {
          "base_uri": "https://localhost:8080/"
        },
        "id": "yFuIU03zAYm-",
        "outputId": "0e3dd6fd-0d37-4ea0-9106-6380ca2454e9"
      },
      "outputs": [
        {
          "name": "stdout",
          "output_type": "stream",
          "text": [
            "[ 0.01278513  0.06106075  0.04827415  0.04883721 -0.00103698 -0.00988493\n",
            " -0.00850272 -0.02471719  0.00915416  0.01698394  0.00768843  0.00649882\n",
            "  0.01120788  0.01324061 -0.0112086  -0.0137775  -0.00566918  0.05423731\n",
            "  0.00931002 -0.01086602  0.04736964 -0.00813231  0.02221955 -0.01375323\n",
            "  0.00560242 -0.02992099 -0.00581553 -0.04386713  0.02369743 -0.01763649\n",
            "  0.02519157 -0.01324959 -0.00986042 -0.00705937  0.00611536  0.0139275\n",
            "  0.05384792  0.00750453 -0.00799671  0.04522276  0.05294765  0.01242403\n",
            " -0.02726684  0.01508643  0.01009422 -0.01668805 -0.00459999 -0.01154267\n",
            "  0.00905097 -0.00912939  0.01616169  0.01301527  0.00470791  0.03763252\n",
            "  0.01913047  0.0366321   0.01377287  0.01091996 -0.01239326  0.0122687\n",
            "  0.05783504  0.01834322  0.01715689 -0.02580774  0.00092851  0.03284581\n",
            "  0.01511726 -0.00139408 -0.00167896  0.03155041  0.03295878  0.00787118\n",
            "  0.02549958  0.04866955  0.02038499 -0.0399041  -0.01247692 -0.00342582\n",
            " -0.00124524  0.02687327 -0.01672641  0.03292217 -0.0185161   0.00045684\n",
            "  0.01579414  0.02734983 -0.03036522  0.02450696  0.03712313 -0.00912568\n",
            "  0.01354406 -0.0065084  -0.00296858  0.02487143 -0.01213569  0.00584904\n",
            "  0.02984398  0.01946721 -0.01053692  0.02694721  0.00448259  0.0076997\n",
            " -0.00669458  0.01091774  0.01636641  0.02342793  0.0143413   0.03831749]\n"
          ]
        }
      ],
      "source": [
        "print(H[1])"
      ]
    },
    {
      "cell_type": "markdown",
      "metadata": {
        "id": "B5OwWV4v4OQV"
      },
      "source": [
        "![image.png](data:image/png;base64,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)\n"
      ]
    },
    {
      "cell_type": "code",
      "execution_count": null,
      "metadata": {
        "colab": {
          "base_uri": "https://localhost:8080/"
        },
        "id": "bUzn_1fi2Kib",
        "outputId": "fe025048-53d6-4526-de58-7ab4b77b20d0"
      },
      "outputs": [
        {
          "name": "stdout",
          "output_type": "stream",
          "text": [
            "[[-0.03374218]\n",
            " [ 0.08630899]\n",
            " [ 0.20125292]\n",
            " [ 0.38437348]\n",
            " [-0.06065628]\n",
            " [-0.00613695]\n",
            " [-0.04239579]\n",
            " [ 0.07147603]]\n"
          ]
        }
      ],
      "source": [
        "B = np.linalg.inv(X_scal.T @ X_scal) @ X_scal.T @ Y_scal\n",
        "print(B)"
      ]
    },
    {
      "cell_type": "markdown",
      "metadata": {
        "id": "1h1Gs73s4uzf"
      },
      "source": [
        "![image.png](data:image/png;base64,iVBORw0KGgoAAAANSUhEUgAAAIMAAABgCAYAAAA+TcFKAAAAAXNSR0IArs4c6QAAAARnQU1BAACxjwv8YQUAAAAJcEhZcwAADsMAAA7DAcdvqGQAADMHSURBVHhepZ35k2XFld+z9uq9G5pd0AiEhAIGhMRoiVDIYUfoB/01M/aM/U/MYs8/4Qh75EURsmWHxx7/oLBGMnJYjIQAsQsBTbM00F3rq3o+n3Pv59ap5BWtCX+JQ2aePFuezJs3733vVS99/6/+xfzw8LDNZrO2uroctNqWl5ezvbe31+ibz+ft4OAg67Z3d3dTBj5YWlrKEp39/f1sr6ysJI8Sog/CPn60iT3k08bB4aSLHMAe0E7KDl2pK1K/lCBlg7RFzAD/8NE3hgraxkWpvH3gkHqwsA3BN9a1tbWUpw1/Bff7w3jhaws9eOYTvfWNmINwgS7jXV9fT7mqQzzIrqzE2EZ7+NGedQjQXloKo4fDuIBxYCvj+uu/+JP5oNBNSoB2z8sJnB8kHz1KBkEJGIALBAe0Z5GEnZ2dbKNDv0ECdDOY0Q9tA6SubfsgFgMyQB42jSllRnv60n8v0wM+Y3JBoge0o948KCKc4lJOm9X+Uszu8sEwDuDYtE8df2AeFwRt8kQJ9GH8yDL+9biAqesbHmSsQF3mmDp91R7y1Je+/5d/mt7mMcE9aiAQgMdiMCj4BKITg6qJvHljq924cSNX+MbGRtve3s5FYkAk3isDnouFXYR+g9VPDjauCGxQB/Shg19lKYExKguQrf0SyAUf8tgy0XUB007ZaB/MP70AQG8zUXKMHITNKosfaCXMEq95IW91gR7D4bDboU8fhBz62CJP5H5zczPaw84FkGN3caxL//5f/WnEdLSqK+rALHMQuUEeAZ4y2R/kIMFhXBE4hU9wBKkchG/IuiWJsE4iIPQTseW5C5kAZO2vMVvqF3vIUwJjhbjakYHUrXKAPkD/wVjPZEYbWfqN6QjHbWoDpN/Spr4STfQZDzax72Ko4+AiZvfXrkBW/8ihsxwbT+Wnn7BHG/2l//hX/zx4GD6+JQl5wKApMUCdYCsP0CYA5XFYYZ+gnjLLIR95xw7kle/ZBVBC4SF9b21tTQsCeW5H+JRSNkp8VJ/66ONgMSirvgtMeWOhfTBu6dpTHjnl005EbOJ7KAMNMtHeHxa+OtQh8uFiGOKKXB5N0TReoD3kkd2bDRdX5jrAwgDaW/r+X/zTPDPMYxZcNQ6iDlz0fJxQd5BpdBwc5WD76KpQTigLseWyixAcci6G3l7aiAwYL6V1k0EJYYOSON1ygfasS1zpTkC1AyFvLID6bHb8loJ9+o1TG2B5dTz8jn6BE6wsfSucNke79mkXH8gYUyIuZG1qX7+DveFWt3/AznLUrz3llv7Nn/3RnPvvJDCe5iGCACpat38KJmA/fHCSHICnbfuR5+pZXVlLvvZAtT1RqNdzjgNSFvu0QV450e/CJbHsNiQa0GbRUEbK287+XvJBXlEhq22SB3JMcQXP9o/fEpCB9O3YKt/YIPo5DxALvpAJK3EMGCYYfxB9ymvH/rhckmcfoI86ZGwH8+FC4PyALON1PGnv3/75H8/rY1oMa2gEqkHbgG2M4ESVS6NjGxCI9UWouvMwH6kae46gvrZzcDHDS+PhDSjDIIEJl2/C1K82gck+iOb2bG+6EgEldtlZWBgQ/cjHnE1+cjEFuciAumCVm3YAnrbB8Ig4TDixsTNgEz1KePTRdqegfmT3+Jypqw95+WgZgI8NiHgB9Xia+GeEOymyGFAEOhMaDXPTYkgjwUPfwdimpK1tYN3+wd6YoKjWxaCdGgf2AAs4LGcdaJdkaROouzw+X9eYXACCCVmKieBWQZLQRRaij0WAzjT22Pb39gY5dhaekjizIKt9CFv7URpjhfFig37aEHXJGLHjLkIdsp/SWG0DdR0DfMbhAqQ+6f27f/kn0T0EkgbHxTC1QwjYHnBURxYZ2gyIdg3GPlHryoLUD7sshsoHJr/yw0PUj2I4CRlT2F6J1YOc8WAzExA8J4I2E8zyMU7lXRxMBEm0b3d3eDGEHe0CZCH0XBRbe7tZVp51J1b7dUzGjVzGONbtQy/HGXXbADnb2FQPWUCfeinLzjDcVAcszY+MUSJkXX7opgEM6whQhw+qQ3mLQF+1jZ6B2xbVDgshNsux/mn7vd0YapbGamKt65edgXQ4Fog+CF7V58ywvDzcEvQnjEn+LPT3ZkfP+AB+9sVC8BbkgXdleT1l8JO+RtBPW/uHUTAObFASnwvLWLFnH7qO23jpx97SX8fTBFuuxskvnUCeSqkQlI8+4yAoMQ7fOsCGdljtFchoE1BHlnKwP6x++xaBwyOLwZgAZR87oM79uiYVu9q2nK7KqJtw7dDGdm0v5biHrVdZ4mZiQR1nXGMwJtnkRd0JA+k7+vCzvz9caEw+i8RxcRuCpxwLbDv8EY/6xqpt5gn+8K5nyId9yAJinc4MACF2hgoCckDZH+QBknqFTnGEcQJC16Q4IJKuXW0M7RjQ6ANQQsphB7+Tbpz9lYGA/QBeTTD8HHS0qcNTj9I6T1Sg8oxd3uDjaMHK1w/AF6ANJ3qyXz6xWgfUyQ0LzB0Cm57+lffswtj2Iuc3t7eSn+3owx/vX9SBqIfniVcBDyz9B146EeY4AG8TEsF8GoPspDPKUFY9AoQYGDwXCfUpgFF3sHXY1kKmB7IOlrqy+eFPgLYEajxAPiU8qNbtsyx3zYQylkB5Js74AHzHCPRxGO3Z4TAJ2mFS0l+00aGsetYZNxca8nWXhQ/CStZrfsw5OtTZrQ5mxHD0ISP9yPNRAWW+jj42+pgjhCSCqoEBXlCl8thXZaqcCQIERRtCF6BTy5zgsV7tAAcLfxhw7EwEW6COfoAJt6/Gah3YBsaoHoRv+4H8RecL9Kf+kZ/vJGICsGNsAJ5QfsjtsKiIHx4lfPMAtMsnkQIZZNlNgHHAP4wLPdZD6mEDHgvFGJYVlhYBfjruIL+SwULyvBcjTwAAPoOFTympU3nKAH3SrrbkUYo6HvWVrXJAHhoH2I36MuMgdm5rwZfo47yQ/tieYkJqGTkfzwjxPynAOACTxQRQmqcKQuVWDNEF8e5hY2M97vurMdFrkVP0Qg55+pGN6NaCvx4y89iFDg/i6mc3iouX/rXV5XY6bGyEzFq0T4Wd82dOJ106f2646RkMyTOB8Ew4BN9kQ0zwcH8brjJkFtkBDBpZDjDaVRbQlld1aUvwSKBJpF1t1PpJNvTRlxBwrNgHPV+fk26QPP2B3jftqqs9+7DV55MSaItF42KCN9kY25I+GAPlMb3xNoU/ecjRxtYy/zuYxUDzYjgaPEImBWFIVKcVlU/dgAV8g6OfUtl8+REys3gWjxQn8c79kMexKOes8iDqAx2dxI0XECc29a1PgS9lqYdA7gR7HNiizYJlUtB14WFDO9iHp23qaWfEUKePXFDHFzKzaSyrXKXsJFHnLSrjOtiPJ4boZ9xrK7EoBmNxNa/GlR85Cn/7HBwjJkraK+OcEAd+zSfEbcI5ozT2w4N4Eon45ofsGnEAj/pyxLk6fEkmBrkUW2HQ/OBodaFIUnQA30Ev52tVwh1oKd9nI5PxZ/9EsSWxj4X7kBmSBfFNnlX04uS+FnIbq2uZ2OEz9yHZDkI40Anz0A+KESTN46GbQxLEeqHdy1SCP4/9nEPg6irJ43AWssEnH/H/JNqry3zuz5VEfljMnAE44yA7UHoZS9ZBZCTILB3FX/NpTj89NmIfKGZjKhdR7aOeb+lHXcl+/s+FlE9MUdZ2LoY+ECfBhbAIdSCgl6t23Rv8IgjgtWrqYCeyfBgLgERyoAGpBz+o95N6Afi25VESP7Sor7YTY0K4GnkXUR8rtaEf5HKSCSf0oGO2OtQcaQ9Ufu3XljwgX/06LlHb5uwkKLcohrxN2OECALTpcxvUofxFMFihXfSqBu1Tp061t996q73x2us5AetxtZFk9Nmq8cEjzyy2RWyo1/voQZ+xAuLXhvqU2gTKqwOsyycecsNuqa65Mk/uaACZSsJ29XUrGEOlHvCM4yR8li7IrNZgK+CbPBxB1OE5KFFl+j4wOQzd9bgKt27ebO+89XZ77eVX2vbHN9qpjU2ymv3sDrxp48WJOwXQBqAO6Ut/+gfya0w9OT4ns9oVtIHjU8YvotrfQx8VvV11q2y1Z/2zfFg6Tsa0CPqofh0PmG4TGtOg5Oo3WaBeHRXoImNfdQpPPxx83nvvvTw3sCtc/+CDuEUstc31jZTF/pkzZ9r58+fzDKENUOsCm9oHlu50kDGJbKMzNHJxLkUsxGac1S4Tz60M4rbGp6CM18VU6STUGNLmqAv0BaoN/fdylYTtKi+q3KJ+MO0MClcheAwYELgrTp5Ax34SXweZCPl5JHG2Fyf28etc7197L8vzZ8+2Dz/8ME7TszzWoecC5FyhTeBiEy48/QNLY8+xRSjT8/84TmPkEDvb3WvP/+q5vE3RRi40U66OI7++vrPbrsaOtrO1PSzm0R5yUI1nEbk4gXms8gC+PNsAnrBexwNVfqUK28pqP3cGrkTfASBIpwEBSgehTO0D8GpAUrTyYLa5Eo9skegzp0+37Ztb7do7V9t999zbrly50j6IneHjjz+efDLJ1CmtY1+/0kmoMlXWcRmr4JZ04+NP8myBbPWvDiBHN2MHufr2O9NYsWU/QL+PVZk6FlB1tQepJ4GeV+WA/pgj46qy8gX1yh/lBkUC1XCFgasM5C2Sd9DKUPLlzqjkYmBhbH0SZ4Q4QF6+fLk98MADmeR337vWlteGly4OgEWqT6A/4/3/AbaYfMCuxNmEnQnop5aMi3Lrxs30fSpuaXw1zcm1lHrQv0gGm/qBh21IeUgeqPK1DmxDXrj2a6ui9uM7dwaESMyiAIHB2w9qP7CvOkWGBJ9e22irsfdurq3nlkziH3zgytAfQV+4cKFdu3YtbwvoYkv72tM//BpHD/rUqboAXe1y32dxrq+u5Xbvlr8XtwFkWISWnCPmMfGcb7ZjMZw9dToXqhNUUWOjbhs7Lmxjqn5oGy921VW28npCv46TOjzIdu0H6ta+ZU/rHgo1AqkAeoPVWQ/tmICPPvoobwXog7vuuqvdfffduRDYFahzbnj/ww+m5ADs8GYSqosVPWgRkFEO1LYxQ/As3SHwbYwVyBAnb/V4wqGEx+GWvBGLcVf7leAZM20BX1DHDja1U/t7m1IFbcbA4qnz1UM5x5u+h1owghSghGoggmAZlDJCXfUpWWg8Fbz88svt+eefz2/lbO3vttVTG20/LsVZnNhu7GznreLCmXNt+/oneRXqIyylzN48rorVSPZ6LNiwwRc6XMQMmsmsi0UQvxM1Xx6vvrDJyy9eQe8fHuSXXw8iC8Q2C/76ZhxaYzfjBZhjARFB+j519kwuhlXiGw/DjhtywnvQhyz9ns9om2P90O9iAOYCgkebEnmIdgU87ELK4BtUXfvhuaijfmQMhyoYjKXQQSWcUaJbB8oEUXJAI4HYZ8hMBJ8DMDHwb8YZgqcN3sPPeZUMRfy8Hl5f22wb66ci+evhnPMNCTk68JookwUoKxEXr6bjQTB6R4qzy9r6Ztqkvb55KmwOP2Hj/T/ErSQcYnIa5zSuWAi0TbQwF30MxmF+KZkAbVaqNrElrKNfy8P9iCOI3C3zKj3+W+UjhvIf/CVWPHe2IOoQfPTgHXvPIDnIGpSwv8rLJ0mVz2CdtEuXLmXdScMGj5q8Bn733XfzCxfsImkP+3F/pr4+2sgkjnajljYg+Ng0yRXILhpH1U1/AeNiMuQJ25T0sysxVvNQQf8iIJdjDj309SMB/Fee/J4HOQbQx2FfJaAukAdcgNP3GYD1nmrfZ6H2O0k44fn97Nmz09YOzwkEvHYmILYrJxUZE0sdwj59lHUy7IfqwGljA9kexMTTAN+swqcJ4WmH2FjILhDHhZwxw9fX74saJ+R4sGk+9Pn7All01FMX28YNattxQNXXsc8mRBUGtU/oWGOUDghQB36BkzYlb/JIPGcDEo5tdPOguL2TV7028tO0MTYnq/oENbFCGQhbGVfwR6uT3ak/zgf5wVNg8h2gDiGnvGPUvuMU8E6C9tCRKl+7QPu1Xol4GDdQDxLmC7lFuQHasH1sZ9BANfRZBjVS28jVduqHPd/usQDQ0h79TMRuLAR2CEAfAxS8qvbrcMhi1wTURPTJpG3SJ77DCDsZS/AZb97SYlcAxlZtmQds2k+9+uzj7lHtqgPgVwLVt6h+hHFVINfb6+uWmf+xnpGjbOIcXBUEDlJDJ4HEos8ugOwGJ+9INFs19uE7qCUmJOxyXqDv4+sfDX6Cz/adclEnDvhs4YngscMAY4fwRxsyfuLhsMciiJFlHzsB/g4jJvjsSHx4hjwxAcdJKTEGzi/Em7EF9LcI9knmF6Kt3Vuh2nBOyCn2QG8DOfupA3zqH8A3lhw37apQg5VUAgavck9VDhmIOvzNWBTIcJ9OMKHBR4aJ54UTB8m8VQQ/ffHBUfRBqVJsQh7GqNtPmxIdEiIfm8YJ0EEW0MeiqbaAdWxRh3j6AcaxCPoQVQ5fjmfRWQboq0KbjgM4HmSJp9KtoI/qJ28TGiA4Sng4wXF1DqqRnoDyEjCZ0ZN1rkbaTAA+IV7vMhnq00c9bceiYPHAd3egv05M9QkZE/U6mdhyvLQpAVc8TzbAyVIHGW0gR7zUlethDAC5Cn0DF+siKAcZh7YoyZUv4/4hqHZ65GIQTgQ8J2qRYk32IsJOTvqYECYfe/TVidlYi1tITC5JOXfuXL7dg8+WDT/fTcSWrjx1JsNfHaMH4Qf78mp81ImnJhZtqE4metgGdSKw6w5CPtBhEuBjdxEctzFAQpug5qjCmClrv+2TeJVuhRob8eR46EDZSSJYeRqtg/ksRyRLfaC9mjgSi43kra7ka2ieOO688878FTOvrQEyh3yJNGhQPdqWiZUFA3gc5UMvFg6Tadz8Qa04APC+MX2FtThnxOII/jwImysxFP7CXYs1MZvttf1ZOQuEAF+R5+vyfi0ev6dPD59L0O4XwzxUoXA0UAdjA+am5rYHfcqZxypvTIyTcVWCt5AWwLEcu01QJ9ipMwgYgIOhDdFvYpShdPLdWfIKHxebVy4Th8+9wxhgtM9cPN929vbb7s29kN9MWT4cQlZdiN8gHkTGz5+7rW3Ef4fbkaTt/Xbu1Nm2uRpXdshAyDouFlSNLSnmhNfc/MqJNnIAf7Q9P+A7/aMfE5zJH+3nN5RR4zYWMF9Ri90jDpurm21tKRZp0Gp+6XZYwOhmHsMPZykOshvjQmZxA+pH9gbgGz6gL22ELeC4QMYY0IayPeApA6ZHS4lvFUv128VQpGKoj0j5SAilMHkAR+sbm7FSV9onN7fi2oTH19pYJOgPxC+UeR18/tyF/L7AQUw4r0fTdiyIWUzMOreHSOY777zTfvKTv2s//OF/av/lh/+5/e1/++/tb/7r37T/+T/+tr1/7YMY0DDwjDZ8GQdPCXnBUDfJUc8hRhDT+Jng8GPi4bmog5MxyAO8Hueb1HxjmvxA5G05eCzcMBe3yeV288Z23AY5HHPxhHzIrCzH4o1Vub4S56W9g3b1ravtxkc38jbI29bhTwlwToodIEqilnzczjb9ES8l8R/FdnxuGU9F5iIIHSizopAliqBX7oGB/qqCqn7aWIlk8LWysY/S1XgQu8GMK+T0qXbbHZfzfkwfu4l/mGKyE2DQ8LmC+D7Evffemx908TU6bzFAeWxR50MormzaPJZCfNhkEvHjAogg86UYcJdgQZJk3pXQ5taGbB0PJYQObSeF+vXr15PwgQ1ztjv+ySDes7z15u+Gz2nG/FXoq+/TJ4QfoG3gHC2y2SP0h0EADUrye+i8gjYDxTFJQJ8ASBqJpqSf4PK2EdcQTwgmCOKzCb8RjRxkPX84Grb5uPurX/1q+9a3vtW+/vWvJz3++OPta1/7WrvnnnumuPC9KM4KZPjkMb+rED6Ih1JdFgwltzTGA1iItJFhHCk39hEn/ArGDvgmlQtdeceWcYxj5LYxvU/pgFwleeRFYPukcePjJGRcGsagRjW4aHAVOtWxsg5Wm1zFHA4B2zULQV9814EnCRJ8+uyZvOoANo2DhDohxEQSPdFjl12HRcJiMuZKgMVGvfZX5JNKTMKQlBhDEDLuIPhPuagjQwz029a28QL49HMh8KR0Jm6FjF09oD5b/uH4wR0y5lSgU6mib2MPmEPbJ0Gbx84MFQwMAvSZRIGjSgAZE1DluQVs7QyLIZ/zORhGF3oklW9Br8UVwUndRVL9m3jjwAdPENRZPLfddltOwCeffJILA/lPYTz3cD+HuLfP9mML5aPfcJl/HAPXWcakEjrl+H6DBe2iXI/dYR5DJh7HDhyvE00fPBYu9s+ePpfnh2FY3Jp4T8Jkxflid9a24lzR9mOcEQe62nbc2q8+qTvZ9le5Sj2Qk0DYGSaPgUIolc5pYE4MvOocvn0CG/CwxxdIzl280Lb3dnOiSCb93Dc/uf5RynNFc4VzcKNf/5TGBphk6iwYFgE+uK3w5Zlnn3026Re/+EV+hY4+7dQ6oJ7t4Jsozi6nYpI5K7BD8BIsf2UV/riVfPje+3l4ffvttzMOdzDqEPa0hT9K+zP+8WUXerHfTYsePfzxdTv8rEd9I/xqS1IW0HYO9CWvl5eA/DqHgBwnj0YVVoESgd7QIgcSRqEqS7Akg6uD8wFXNPdo5K5evZrlHXfckXLsEPjkm9Ik0YVDH+SB8sUXX2w/+MEP2o9+9KP24x//uP30pz9tv/71r3NBeU/Hrv6NT8BnMvj+I+8ruBXwAgzZ/HJN9L311lvt5Rd/05752f+Op5ef5EJ79eVX8raGLRejCxObOemBtDPmR6DDuJFXNuMKMfyxINbiAsnPZ8bbBHLacQJTZ+zTj7xKyqovH/R2xVRTAOoVQd9WtoI2g3XVAwI+Fds/WzkHJNocvPai/m4sBp4G0MvTfpRMJDIkizZ17aDvh0Rs2+woDz/8cPvmN7/ZvvOd77RvfOMb7YknnsjFhQwDZVFQ8gjIcNmSV1ZYZPwdA36gEws4HvHWgq698157/fXX28/+7qft2dhheEIhjs/de1/7g8ceb4899li7//7783bGGYC+wfaQMxcgC582Y6EfyvzF7WkzfBLDMCzi490I/bEYVtbbJx8MPxmohE2gvZpj2ouQ/jpUnjbl0Z52BmhREBAKDroCvqQ+QVLaDx8ej4GvvPJKbpdsxc8880zeNvhyLBMM3G650tTFr0l3a37kkUfa9773vfbd7363PfXUU+2hhx7KJwl/gWUsxuxVDGGXSYPwy0/8rsbWzy3g//z85+2FXz+fk/3FLzzSnn766XxK+fKXv9xuv/32XNAcdrHJm1PixY5XOfbpk+fiEPk4Gk1zZHzwsUecXCTcorAHIYMd2wAdSJ5j60nfyldebw8c+2xC4UrwQK+oMUg52/aD/JvUh7OYsM/H9v9Re+bnbLv/q7355m/bF7/4SBwcV2NXYKvdyy+bMpnUD0OHpHHmIOm8FubLqrGnJx+fu/txDtm+mVcpdGNr+E0DscRI8ouv1IdJQWegGGna/+2br7dfv/Bce//9a+38hbPtwYeutG9/+9vtySf/oF35/ANtI2I7CB9bOzfzj2hxG9o7GM4A5orJYqy0idMFDVGHz62LRYQsbeSJiVihzFNcJPy8MO3E+YVSYIs/VMof86JcYnHkmI4muCfzIKinbIvD+/jKGqKdr6mDji0GgpXqpGKEgdm2D6jP4CASBYlhIubt0uXb26NPPN5+/tzft5/9/f9tjz39VLv34Qfb1sF+fgOabz/vHey0/RmPYcOXXNDFFx6IgQHu7GzFST4WyDz0VuKqXz5se7RjjzuMhRJTkfI+NfAmkNuAVy/IpERMt991Z3v8ySfag194uK2fi1vOl7/Uzt91WztYWWrbsSC3ZntthwUUsa3GQuTb2XwzmwU7/Rkf3k2ErfymdOSImLHPrYI6C4inKW6D1JHlsdWnKW6Z8Fm4F26/lPHf2OKpgg+Ohp3BsTMH2ISA46nzIdCpQMZ5rfYo1c/bBI1Ki3jyGQwGbgXkXViAt4P8lO7pP/zD9o/+yT9u993/ueHvIAVcPBnsqDP4i34eB+fYWs0rDCIZJI/PFaIrdwt9EZ/nA4n7Ma90+XKt48AGh9nz8aSzcWqz7cT2zC6EqjZ5Y0lJ8tDLv/UU9jZO8z5j3PaDz+GPMXhwNcZZJJtfiaHPD4V+97vfZR3ZHOO4IPLRM3yfv3gxdzQQN4dYNDEersHxTAGXsfFHQiAWO8CGNIz/6P2HJdRDHZAyNgSGRK0LV5VQhpLBQ/QjpyxEUGzlX/nKV9qjjz6aifMMQB+ylgSGPUk7vS/RJ6LC8fH5B1OZupH43DDDJnFwdXJ+oA9f2lMXHmQ/8ugSg/6YYOJHB37e/2OS2UXQ4UzDDgCffl5A8SST3+MIOR5tuZUQBzI1BwC77m7ynGTjrMCnJUS8lNVeLeHncqkMy6oE4bSiyliC3hZtkkcCSAwvhnjEJDCSR5+2KQkaoK9v5AA2HCSy8pF1sZxEwNimGKNgkazFLYA6tvEhqh58bRknfHnKGgd9EDa5CBwnPybi/QXnAojHTd63wLsUuwe7irLGKbRXcwSZE6BO1aXeU+U77mlnsHRQoA5K1EkAVR4+/ZJ6daWzuhkwdQbFVssVRECU9NcFgly1RYkf2/SbjCon6NcGJdu++vDQJR58b7Ptj3IpO0K78pFnTFzFk90C5fBjic598Rj9Rjy6fhQXQ/7Wk3yFKnZ4EkIOuywegM86HmKF9Efp4hOOSz3rlJVvqW72V0M6klDolTQMqi5QTzuUgAm2j8FC2KHtFUeygInTN1QTgG/q8EhE7as6UMV0xhh18QvlVRYLhAlhQXDbEMhK+CU2gAy6TNqiXBA/Cxp5r2LkvxS3x3Mx6S+99FLmhB/w8oJtf3evXQw+etjmiQU4DmOgjj90jUVU/8DcuFjs7/MCsJlEQ0GVdIpD2jXhtoWykPoCfYOmRIaBQABd6iwO+pkMiNuJgwD4M4bKr/Xah92e6EuMh0JodX0tD7H4Xt2Ic8D4KNoDHpPJRNnPWFhAwhgBsraxTUx8VI2vL8Tj9Ftvv52v0DlDvPj8C0NOYvEgN4/Q4BMzfEpgCfAN9GduQdoIqm1BvcaJHnYnnSoE6NSxipWnIoZqECQbGdqQ8kA7ELrytFGD0p+y6mlbfRJVfdlf7UjTQhiBHD4BstS5KplEdSm1Sz868AG+ufJdDMgA/RkjZa1v7e60O+6+q90Wj9m/eu659pOf/TT/LgUv3njRFU7y8Tip2DIOqOcbl36UA/Agxi8B9YAy0MAJ0KiGALxFziENiD4AqQZaYb915EguiSfRwIDrFcLV6UTSX+PtUf3zfUuuOtokxasXG3llBrFD4Rub1a5y6CEDeCylju069pMQe1YMZCXfOTz19NdyQXBeuv/BK+3ynXdkfPvxjMMtYmV8HDVG4WKt8dEP6du+GguxS0AZbYhjj5YIY0TjVaHykKPtaoMPT1naErDPfmA/+vCxxz2Yyfb8oE69igWJoU87tU+oD4xfkg+WYyFwa9JmRbWrLuBKNgfg99Fb2VhrN2N3WItbEq+6eefCq+71U5vDm9awxcspbpV14swfvvAJ7K/QD4S8uuRP6uOscmlRhjBxCNQr0cmnH3lkXL01gEqgvv6E8tXnKn3o8RUxYhj+9H1u/3GV+MFV/D9tcLVwj6+vmAEylcTkmzJ8Drkj7qEu8a3o5TB19jy/AD9oN3e203deyaM+eXDMa2u8YOJvGsQ9HovBH9/9JJAxDmOiHw5vT2eHcYAOms1nMZ7YDQ722s3tGxEZ3xZfiqeKs203FgOx8srcb4jzL8/x3mkeueNfraWPXBKbYwX6hCdlDBEnr7L58jHLiTolbRJBuVwnWCMkGicaAdWpfHhsq27jk9POHu/d+4WE3nZcJcgAvktw/YMP28XbLuU/Jchhaze2zFwYkcr8R8SwHSXfbJ4HYc+Yql8J0F8nE+AzrpF8lRyR56vfjeXVfEvK4kdOQhd4eCQ2tvNZTNxeTMbB2nJ+y5rFg3yNCT/mgL89wXc4yAUXEH8gZD8mdycmlVfdO7PhCYuPs/l2C+NL35wf0tqRPYAsJK+OGT0oL6wxfqCcOhD92orbBGkZiNeeoipAAAVLjdhv3f4KZPlamTqA+yWLju2Z7/3xp/T4w19sv25n2CN4J7mfbOR6wodU47Ad/08CvAHklbBfd8M+Pnn1DWVueBUclJ87hAyL4tVXX21vvPFGfoQOsJu2o593B2FkoIBjAMhgQ3mIXYPdD908K8UCzd+GRp860BDXka6wXXkCHf1TIqMN+x0zNL1nqAbtlIB9vSEoV3qUJ0HbvX3a3B+BX4SFx+2iJlA9S2EMxkhpLJCLRlsCOf5yDIlJ3diFljhgjnaqH3gQccJnMbCQWbT88KdOEEQbaEO+dmxX0GYhA2KtOlUe272/ngB6AFs1P/b3MLbpO5AoWq+QV50B24v4NejUj62RFQ/RdnL8oIYDI99tYJfgMOXC0tZJ6GOudfTqbqHfSruxNXsGwRey1PuFBLnlYocv5Dz55JPTziD0gS3tmQf7LZGz7Rj97IIFRx96lNYX2bJ9Ur+QX/2qI449Tej4JEOAPgdssqEqA2xzXtQmvEroeS/m84oLcV4gwdwvOdAwUS4MYFyGrw9tMbAaU00OqHVskXhk8JMxxv15Z+/oRZJQz5diLF4+haTe70SOFaAn9bwK9CDtIItd+9wxhT4qAW0rS8n4+jychJA7fhX30Ih9NYBFtAj565+YHGxxdsj7dNyvkedXQxwcuU1cvHgxF8JwUDxKLPGhz0/3Ier8toA+E6nvOnATyT04uEn0QY6bBcDTA08qfJTNc776Vc6dwdI6C8oFq21g7MZofNoU1O3DHmNDHmiroucpqy9hu8YEnAdQdeBlVDAwmoxxoApA9mtcGY1VHnXwKT42xi+E6otFwb3XPyp+6fyF7DfhBA60mTrYHA+AAl/o6Y/SeCtsKxeVfLbfjwVz5733tCsPfT5fJtEPkFfH0is2F9m4CIgz7Y1YFAOlOtqnZKy26ccWxI4J6KONPvaou2iqHfqrL+PBn3xQ6+ghJy//ppNB0yk5IEqp9oMqdxKwi31eKHlYRAcwIO6TLAYmgYWRz8JjcNo3xoxzPH943pAAeibbBAKSB3pZ7NHHgRU/Z86ebVsRj5MsbKtf46m+mEzK6sMYsI+cY0fGfmUo4ec3yKOe4+365Ql99T6RA/iTgP0Q42JnQxf5lKBBoLcCcpCG+sBoGwSwzSLIj2Wj7m2CSeX2wRdS+WLHvXffk7I5qNi651Fgm1uGweur1lN+xCI+ZZ0ACTlKfNpP/aQ80KdtoF14JBR4lZt8J1/yitYWJYSOZyd3B+oVxkq/esrQ14M+5gg/+jJ+5CVAbFnCMNgKFXWqUYCOgfTQlolAlonnPQI6JlsZvuzCoZFdIQMcvwoHqofhF8fHB20M+nRwxpz2Rh6obcZCnbMJbzdZgHzE7WcTFbQXJdIdx6Qznl6WuAA844IcPwuJNnX1OKBSRx8+pB3HBZSpgKcdQF2fAHl1jMH6sRWAgsrViCQw5irHCO26CntChkGzqgFtHiO5PUD33Xdf2qqHMWDg+oBE7E1hG1niOk68roX8F+Rq7IK4AH7pN06+8EpZQRs5xlz70CEmHwXZASm9epWhzmtv4+XVsoQ542RMKyvDbSIxfrwOAXMOEQdPXNLxDIRNdELGNjLC8QLsmOM8MwBKyMmoCYCcCPi0AQaRZ/DKA52lTgxon2B5yzdfaZtLa+320+fa5ny5vfP6m/ldwNMXzrV2ar1tHw6LBZsZVxA7Qh4+x/gyuZE2hsIk1AUCclBBoOqk3thGx9fo8AE86jylINNDfeWpu7jRrX4p6WdxsMDRITfqErcLZh7h86VZZNk9828yrMVEr6/mR9n5+j3yAWkHPefJuOBD5gNe2o9+ZSiJzUWlrDJ5m0AQUFcAaACoDM+DYA/1KwU3nKC7HI+PN4ffBszm7blnf5VfBGVXYFvMr6CfHk7ySeEW4rCYfyGOQ2PwTbgDqKBfnnYAPOKmXceRvNGP1OtDi/w4+ZDtvuzJJwTsOXleaOSAW2Ze0QXIJsWtdoqz+KkyAB6kfX1bp095xu8ig6Y3kEDhXqGiygPlgcZNtMQzPLbp48cov/zlL9tLr7zS7r7nnny3wNtH+vkRDNCmcVTAq4OqgGdZCTn7jL/XrUDW2JHDH6g8oM2+FLQrjzo5gKgzQZTYY6HwO848O8VuaowQPoG7ibpe4WJRXJWA8SurfcpjbyCrkkCI4PtANKaObUBdAgx0M+6DfKuHH7H+9u3ftUe+9MV259135WcCOdTYEpFz4NrVHyV9xEHdW9VJUNc6E6q+kwFqrMaLLHXkHHOVgdeXPcEXVZa4YyknP+3Hrsc3pHnE5qtx/IQPf9UG8UCpG6X96EOg+rNfG/pH1nlUri7I6WlCJahCHnJAoyfJAWQleATADsD3DOex6vndxIMPfT7f/EW4GRAf/jBYA62o9oC+bAt4JqvKwBPyoZNgX7VFjBDQb/Xf8ygrkYMbH32cH5snL1zwr/Pk34CI+sfXryf/wqWLn/pCLHHg23icA0pic3x1XJY90Be1DnIx9MxqiD6cSfQxsKoDjzalRKAGC3EeeODKlfbIo19q5xhw2OD2kafc2BVYCD6vA+PSLqgxeEUoA6q/CvspTaqwTx1K7Dj5+kOOOjzqlQT9fR88iLHxJwgoc0EE5cf6sUswdr4lzaGWb0HhH6ivLfIO0W8s6ArHQD/ywBIYi/aQl8b+QQCq25CoyUNJOQ06AdTpM4naoKSfQye7A19eYYc4jEeo/ZjQ/AwiRKu8BLS/iAA+JVD7qh1AvcrbX9vKQfiGQH3srT6s97xaYhs7/F0nFgBPLPwtBp4cJH6FzT/DEML5hR5ADNjAL4QdUfsAdeOuBN8+5kVZSGhjOkBWqhNsQkwK0EmPasNgIMFLnVzd48/bWARQRbWxiJy0OnnwjRlUn0B+hfZ6AuhrT6o+JdqVB9STp74vsxg/v/sMrST+YMi1q+/mB3X8kIZ+c+0iQB9UP9qF4PWx1TgAbWzR9gJXjjrI9wwI1RIjfXkSdPZZMkA5/0kipPuFcCtog7L6rb7li5P6Pite+kgQOyCJIwfueFD1XWMB2rXPNvaYaACfnYa/FnN681T+2SGeIi7feWfulDxeOkHI1onDXvULyRN9Wxn01dE+sJ6LAUEEAKWDtm1ZSWe2QR9EDw6M+UXXOCMMX/c6IqEtof2e7+CMH9QELrIjFsWIrgSQQYc2JX68Uvt674/cGZf68FgAe3FQDs5wu4jFxi+zOS/w1+p4mtJnHRegLfRX4xU1F8oI2vRjq9ozzuHRMiaHZ1t/fiZQ0GDK/Z6oNqLV9g/j1jAncUcJPAn4WUQ1Bu1TSkDZHvQv4gN1oEzImDyuYiaPWOHVuJH1gtG/NgDy8rXHxPMKntsBctw2/ONk7Ar8Spt3MMjhS3v6qXXboPqG8Gepb2A/Y4DwYXy0U4fXxYDBq+BAUmA0KK/21StDHqvb+yM8oZyHT/uwbsjwRdWlXtsCeeIzOVWu2qK/6tNXyTEynjztjzxK4gbK2BbICOr4QtZkA3T4m1HnNs61N197s8324sAWh8gXfvNS++Dj6+3K5x+MJ6vhD6ED9FyI2IG0TUk/fXWsxgEP/xB1dY1fO+YE4u1n6igIKaRhSoQpJWXhV9gPn0DrQOwHfIlF4u8n89nN8PlN6MMb5aodoQ/Q+6+oMtJnocqgi0/zQUm72qok+jqLHhLY5YB448ZWe/W1N9oLL77Urr33QXvyqa+1sxcvxZPVLL9uz20U1HkA1D1c6suSvp763CFbdQFyQFkvysmIQKnSSVCHEjkdkkR2CHcJZSoW2b9VexFqf+/jVqj20SXufwiqP+24u0BeEPR97v772+2XL7cXX/pNe+21V9rnrnxu+As2cRXwe4zIXB4gebR0B63QTo2RtpNZqcJYRB0vRBta+td/9sf88wsJVmN+MBTGsrMYOdYe/92C2l/loKOAjyYq+WMTedrxv2wj78fNQ/148NXX4GN47k4bI+y3NCk1ebdC6obNmtBF+voAvWwdgzsjv81YXxo+rXzn2rttbWM137twm+bjds5tgPHwiy12SexoW1vu3vDNy5CPT+cBUDemqqNM1ZtGWQ0o4IBAr0zbJMGDlLeNc5MBqg+gjUV+KKXerrxFoL8C2ZNgcoC+aruW+ha9nP2QVzX2KSG2/904SPPHwm6/+3K7fNeduRD2+AdPouRC4ErhJ3T1IK8+7Vonr9ivMpWMpfb3dWWwA0VOh8kAVUG+9035ygCN6dRS3f6+ab+ofgT16sMB96gyoo+jj7WCdpWDaJsY2nXswH51+b2jX1hhMhEddjc+DBu+YGN/8uK/vYO93Cv5c4L8znLwezC8iBv96gfQFsZijMq5MCrPGG1DJwEZkNZVsk4A/aQoA0/SqbLaqEHLq0AWGeUq9KNutaEObRJAKU//xlZR+VW+1oEyUuWxMGodMo4qB9XYqg5jgWaxCATfbALK8fgdEae+fEEdPjawXWOCaMu3DrQFFtlVJ394q3ETL9EGtoWGKNGzXfVBlVO2yi+yaWC0a6IB9uFJ8rCjfWAM8CT5yDsu+VWmylZ525XfyxGTj+h1rJI7pePrbYDUbcdjBrSpU9bJ1gdQFtgvkJGAtipNn1o6YEAb0K4OQN9nP6V92uyDFX1bwHeSAW0GBWoc2JQPjOMku8DxuZCqPfrqxPSAV/u1BeW9fnqPevx2UYk+bgfUefvIhpCbAp9gRvdy2BoodIMNjMuY6vjgORZhTJXka8t27Qf05QdVOLGDugQMhrYrrTcElHFFqk+p/CISygN8VltVjrZXWNXp7QF5UNWjDvUyULVpHVnjqfrGANE2XqAuNs2hBLSXY43DZewVST5tVWgL6A9oj3YdG3DBL5LHJ/11bkHcJoY//MC9a1jFg7KkAduAD5qikcSfyqt94TLkccJK9Cpk9cKLer5aGYhHVP74xBENiccfoO7CEMYD5Pe84/EM/dqBlMd+lZ/6URrLHF8QbQl+UjS1JU02xnYF+SUHw8Fz6FOOWJxIFgQLxcUFURfYr/3agg9cCEBdbcN3EVi6qJd5BapBSg3S1qkrDmVIwAfcJ9VVBhq+wDHYoa1NZCXa8GufA9eXuhCwbj960knALnGiQ52EQaDGAPp69S8fUCdW/VbZGg88J0iCB+VE8NW/EPUy8S0kqGPqdeUJfTCnTjC8Kg+Qoc955SUZmM4MMBehBmA91JKGv9F8PJmsammyHTL549uxDQxwsHc0KO1IgNggdUEdoH11cheV1eYiW32f8rSrrnXbNTZ41R5841deaIO5hw4PhjpbztQ36lD2cYE6dnmgjgcgA8EH2jiSae3/AfXtrfNr8z/aAAAAAElFTkSuQmCC)\n"
      ]
    },
    {
      "cell_type": "code",
      "execution_count": null,
      "metadata": {
        "colab": {
          "base_uri": "https://localhost:8080/"
        },
        "id": "mOgFIFO63oXF",
        "outputId": "6a1eee6b-cd69-4ba9-eb1a-229ac5ccb923"
      },
      "outputs": [
        {
          "name": "stdout",
          "output_type": "stream",
          "text": [
            "     Sobrevivencia (dias)\n",
            "0              706.256237\n",
            "1              430.822921\n",
            "2              732.229832\n",
            "3              425.039576\n",
            "4             1454.587552\n",
            "..                    ...\n",
            "103            566.515055\n",
            "104            568.334910\n",
            "105            584.367939\n",
            "106            385.909891\n",
            "107            459.719981\n",
            "\n",
            "[108 rows x 1 columns]\n"
          ]
        }
      ],
      "source": [
        "Y_hat = H @ Y\n",
        "print(Y_hat)"
      ]
    },
    {
      "cell_type": "code",
      "execution_count": null,
      "metadata": {
        "colab": {
          "base_uri": "https://localhost:8080/"
        },
        "id": "iG73-4tLBZXH",
        "outputId": "a8cd03be-f564-4eb0-c2c5-49140ab5a453"
      },
      "outputs": [
        {
          "name": "stdout",
          "output_type": "stream",
          "text": [
            "     Sobrevivencia (dias)\n",
            "0              -11.256237\n",
            "1              -27.822921\n",
            "2              -22.229832\n",
            "3              -76.039576\n",
            "4              888.412448\n",
            "..                    ...\n",
            "103             22.484945\n",
            "104             30.665090\n",
            "105             70.632061\n",
            "106             -8.909891\n",
            "107            182.280019\n",
            "\n",
            "[108 rows x 1 columns]\n"
          ]
        }
      ],
      "source": [
        "Error = Y - Y_hat\n",
        "print(Error)"
      ]
    }
  ],
  "metadata": {
    "colab": {
      "provenance": []
    },
    "kernelspec": {
      "display_name": "Python 3",
      "name": "python3"
    },
    "language_info": {
      "name": "python",
      "version": "3.10.11"
    }
  },
  "nbformat": 4,
  "nbformat_minor": 0
}
